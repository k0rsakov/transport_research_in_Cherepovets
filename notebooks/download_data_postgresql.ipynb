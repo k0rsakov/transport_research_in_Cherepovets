{
 "cells": [
  {
   "cell_type": "code",
   "execution_count": 1,
   "id": "1bf322b9-c533-41ec-b536-b9398a51a260",
   "metadata": {},
   "outputs": [],
   "source": [
    "import os\n",
    "import pandas as pd\n",
    "import json\n",
    "from tqdm import tqdm\n",
    "\n",
    "# импортируем библиотеку для работы с картами\n",
    "# from keplergl import KeplerGl\n",
    "\n",
    "# Импорт собственных классов\n",
    "from ParseLog import ParseLog\n",
    "from PostgreSQL import PostgreSQL\n",
    "\n",
    "# Импорт параметров для подключения к БД\n",
    "from db_parameters import *"
   ]
  },
  {
   "cell_type": "markdown",
   "id": "07d24fcd-9172-4309-9ada-e90d0da4a8ea",
   "metadata": {},
   "source": [
    "Наименование колонок:\n",
    "\n",
    "- `TIMESTAMP` - время в UTC в формате дата:время\n",
    "- `CLID` - vologda или cherepovets\n",
    "- `UUID` - уникальный идентификатор ТС в формате id_перевозчика + \"_\" + id_ТС_в базе_перевозчика\n",
    "- `ROUTE` - \"#\" + номер маршрута \n",
    "- `VEHICLE_TYPE` - 'bus', 'tramway', 'minibus', 'trolleybus'\n",
    "- `LATITUDE` – широта\n",
    "- `LONGITUDE` – долгота\n",
    "- `SPEED` - текущая скорость\n",
    "- `DIRECTION` - азимут\n",
    "- `PRODUCTION` - признак производственного рейса. Когда \"0\" - скорее всего автобус без пассажиров. В Яндекс передаются только данные с флагом \"1\"\n",
    "- `GARANGE_NUMBER` - опционально \"человеческий\" идентификатор ТС для перевозчика\n",
    "- `REG_NUMBER` - госномер ТС, есть не всегда\n",
    "- `ROUTE_DESCR` - текстовый идентификатор траектории маршрута в одном направлении. Нет стандартного формата, можно использовать только как \"хэш\", как ключ для группировки точек по траекториям"
   ]
  },
  {
   "cell_type": "markdown",
   "id": "9be059f6-0f03-4345-a4fc-0b78b664e2eb",
   "metadata": {},
   "source": [
    "# Создание коннектора к БД"
   ]
  },
  {
   "cell_type": "code",
   "execution_count": 2,
   "id": "68bbdb5c-5001-4a35-b2b7-ab1447aea27b",
   "metadata": {},
   "outputs": [],
   "source": [
    "pg = PostgreSQL(\n",
    "    host=HOST,\n",
    "    database=DB,\n",
    "    login=LOGIN,\n",
    "    password=PASSWORD\n",
    ")"
   ]
  },
  {
   "cell_type": "markdown",
   "id": "847b4f2d-73b7-4e29-8502-6f27c6f2442d",
   "metadata": {},
   "source": [
    "# Создание списка файлов для импорта в БД"
   ]
  },
  {
   "cell_type": "code",
   "execution_count": 3,
   "id": "43ddab0f-e38f-4a49-ae25-6df31c803d20",
   "metadata": {},
   "outputs": [],
   "source": [
    "list_filename = ['log/' + file for file in os.listdir('log')]"
   ]
  },
  {
   "cell_type": "code",
   "execution_count": 4,
   "id": "54675b0f-500d-4cb6-a07b-2a57c8b6ae28",
   "metadata": {},
   "outputs": [
    {
     "data": {
      "text/plain": [
       "347"
      ]
     },
     "execution_count": 4,
     "metadata": {},
     "output_type": "execute_result"
    }
   ],
   "source": [
    "len(list_filename)"
   ]
  },
  {
   "cell_type": "markdown",
   "id": "efb1cf6b-4735-44d1-ab2f-85a909577ff0",
   "metadata": {},
   "source": [
    "# Запись в БД"
   ]
  },
  {
   "cell_type": "markdown",
   "id": "8a31082d-9c4a-4789-a663-a015bb5f9437",
   "metadata": {},
   "source": [
    "## Запись логов в БД"
   ]
  },
  {
   "cell_type": "code",
   "execution_count": 26,
   "id": "024de986-5bff-421b-a786-e7dfdcea3598",
   "metadata": {},
   "outputs": [
    {
     "name": "stdout",
     "output_type": "stream",
     "text": [
      "CPU times: user 28min 15s, sys: 29.5 s, total: 28min 45s\n",
      "Wall time: 1h 26min 15s\n"
     ]
    }
   ],
   "source": [
    "%%time \n",
    "\n",
    "vehicle_type = ['bus', 'tramway', 'minibus', 'trolleybus']\n",
    "\n",
    "for file in list_filename:\n",
    "    parser_ = ParseLog(file)\n",
    "    df = parser_.transform_df()\n",
    "    \n",
    "    for vehicle in vehicle_type:\n",
    "        df_into = df[df.vehicle_type == vehicle]\n",
    "        pg.into_pg_table(\n",
    "            pg_table_name=vehicle,\n",
    "            df=df_into\n",
    "        )"
   ]
  },
  {
   "cell_type": "markdown",
   "id": "8434a672-c66f-4ffb-8ddc-150fcd5af0de",
   "metadata": {},
   "source": [
    "## Запись логов, которые были записаны в PostgreSQL"
   ]
  },
  {
   "cell_type": "code",
   "execution_count": 28,
   "id": "966980ae-e303-4379-afa7-0d1f7bf2da39",
   "metadata": {},
   "outputs": [],
   "source": [
    "list_filename_df = [file for file in os.listdir('log')]"
   ]
  },
  {
   "cell_type": "code",
   "execution_count": 31,
   "id": "013c0a15-79aa-4c16-9838-db1ee5b53732",
   "metadata": {},
   "outputs": [],
   "source": [
    "df_file = pd.DataFrame(list_filename_df,columns=['file_name'])"
   ]
  },
  {
   "cell_type": "code",
   "execution_count": 33,
   "id": "c1f618dd-af7e-43fc-b2b9-e98064423219",
   "metadata": {},
   "outputs": [],
   "source": [
    "pg.into_pg_table(pg_table_name='written_files',df=df_file)"
   ]
  },
  {
   "cell_type": "markdown",
   "id": "dd9a4e0c-cbd3-4354-a783-83109bea1323",
   "metadata": {},
   "source": [
    "# Чтение из БД"
   ]
  },
  {
   "cell_type": "code",
   "execution_count": 5,
   "id": "5ca114e2-f8bb-46f3-9980-1d61aca16cfc",
   "metadata": {},
   "outputs": [
    {
     "data": {
      "text/html": [
       "<div>\n",
       "<style scoped>\n",
       "    .dataframe tbody tr th:only-of-type {\n",
       "        vertical-align: middle;\n",
       "    }\n",
       "\n",
       "    .dataframe tbody tr th {\n",
       "        vertical-align: top;\n",
       "    }\n",
       "\n",
       "    .dataframe thead th {\n",
       "        text-align: right;\n",
       "    }\n",
       "</style>\n",
       "<table border=\"1\" class=\"dataframe\">\n",
       "  <thead>\n",
       "    <tr style=\"text-align: right;\">\n",
       "      <th></th>\n",
       "      <th>timestamp</th>\n",
       "      <th>clid</th>\n",
       "      <th>uuid</th>\n",
       "      <th>route</th>\n",
       "      <th>vehicle_type</th>\n",
       "      <th>latitude</th>\n",
       "      <th>longitude</th>\n",
       "      <th>speed</th>\n",
       "      <th>direction</th>\n",
       "      <th>production</th>\n",
       "      <th>garange_number</th>\n",
       "      <th>reg_number</th>\n",
       "      <th>route_descr</th>\n",
       "    </tr>\n",
       "  </thead>\n",
       "  <tbody>\n",
       "    <tr>\n",
       "      <th>0</th>\n",
       "      <td>2022-05-26 16:27:47</td>\n",
       "      <td>cherepovets</td>\n",
       "      <td>ak1456_2058</td>\n",
       "      <td>#</td>\n",
       "      <td>bus</td>\n",
       "      <td>59.128468</td>\n",
       "      <td>37.837383</td>\n",
       "      <td>24.98</td>\n",
       "      <td>326</td>\n",
       "      <td>0</td>\n",
       "      <td></td>\n",
       "      <td>е440хк_35 [БВ (Н)]</td>\n",
       "      <td>\\n</td>\n",
       "    </tr>\n",
       "  </tbody>\n",
       "</table>\n",
       "</div>"
      ],
      "text/plain": [
       "            timestamp         clid         uuid route vehicle_type   latitude  \\\n",
       "0 2022-05-26 16:27:47  cherepovets  ak1456_2058     #          bus  59.128468   \n",
       "\n",
       "   longitude  speed  direction  production garange_number          reg_number  \\\n",
       "0  37.837383  24.98        326           0                 е440хк_35 [БВ (Н)]   \n",
       "\n",
       "  route_descr  \n",
       "0          \\n  "
      ]
     },
     "execution_count": 5,
     "metadata": {},
     "output_type": "execute_result"
    }
   ],
   "source": [
    "df = pg.execute_to_df(\"\"\"select * from bus limit 1\"\"\")\n",
    "\n",
    "df.head()"
   ]
  },
  {
   "cell_type": "markdown",
   "id": "cdd550cd-77ff-4c76-a6c3-12d6cd9ed2f9",
   "metadata": {},
   "source": [
    "# Создание карты"
   ]
  },
  {
   "cell_type": "code",
   "execution_count": 94,
   "id": "87c0c476-c9c7-452c-9327-d0a63e5a068e",
   "metadata": {},
   "outputs": [
    {
     "name": "stdout",
     "output_type": "stream",
     "text": [
      "User Guide: https://docs.kepler.gl/docs/keplergl-jupyter\n"
     ]
    },
    {
     "data": {
      "application/vnd.jupyter.widget-view+json": {
       "model_id": "a4d113a8e60d453bb9a1c8a5e9d6a788",
       "version_major": 2,
       "version_minor": 0
      },
      "text/plain": [
       "KeplerGl(config={'version': 'v1', 'config': {'visState': {'filters': [{'dataId': ['yelyi5ow8'], 'id': '3ynfdw2…"
      ]
     },
     "metadata": {},
     "output_type": "display_data"
    }
   ],
   "source": [
    "with open('config.json') as f:\n",
    "    config = json.load(f)\n",
    "\n",
    "_map = KeplerGl()\n",
    "_map.config = config\n",
    "\n",
    "_map.add_data(data=df_draw, name='yelyi5ow8')\n",
    "\n",
    "_map"
   ]
  },
  {
   "cell_type": "code",
   "execution_count": null,
   "id": "e560128f-9037-4112-97cf-70dd19917f5e",
   "metadata": {},
   "outputs": [],
   "source": []
  }
 ],
 "metadata": {
  "kernelspec": {
   "display_name": "Python 3 (ipykernel)",
   "language": "python",
   "name": "python3"
  },
  "language_info": {
   "codemirror_mode": {
    "name": "ipython",
    "version": 3
   },
   "file_extension": ".py",
   "mimetype": "text/x-python",
   "name": "python",
   "nbconvert_exporter": "python",
   "pygments_lexer": "ipython3",
   "version": "3.9.7"
  }
 },
 "nbformat": 4,
 "nbformat_minor": 5
}
