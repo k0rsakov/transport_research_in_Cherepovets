{
 "cells": [
  {
   "cell_type": "code",
   "execution_count": 1,
   "id": "1bf322b9-c533-41ec-b536-b9398a51a260",
   "metadata": {},
   "outputs": [],
   "source": [
    "import pandas as pd\n",
    "import json\n",
    "from tqdm import tqdm\n",
    "\n",
    "# импортируем библиотеку для работы с картами\n",
    "# from keplergl import KeplerGl\n",
    "from ParseLog import ParseLog\n",
    "from connector_db_cherepovets import PostgreSQL\n",
    "\n",
    "from db_parameters import *"
   ]
  },
  {
   "cell_type": "code",
   "execution_count": 2,
   "id": "861daf8c-1a96-4905-8823-ff9e2c1380f0",
   "metadata": {},
   "outputs": [
    {
     "data": {
      "text/html": [
       "<div>\n",
       "<style scoped>\n",
       "    .dataframe tbody tr th:only-of-type {\n",
       "        vertical-align: middle;\n",
       "    }\n",
       "\n",
       "    .dataframe tbody tr th {\n",
       "        vertical-align: top;\n",
       "    }\n",
       "\n",
       "    .dataframe thead th {\n",
       "        text-align: right;\n",
       "    }\n",
       "</style>\n",
       "<table border=\"1\" class=\"dataframe\">\n",
       "  <thead>\n",
       "    <tr style=\"text-align: right;\">\n",
       "      <th></th>\n",
       "      <th>timestamp</th>\n",
       "      <th>clid</th>\n",
       "      <th>uuid</th>\n",
       "      <th>route</th>\n",
       "      <th>vehicle_type</th>\n",
       "      <th>latitude</th>\n",
       "      <th>longitude</th>\n",
       "      <th>speed</th>\n",
       "      <th>direction</th>\n",
       "      <th>production</th>\n",
       "      <th>garange_number</th>\n",
       "      <th>reg_number</th>\n",
       "      <th>route_descr</th>\n",
       "    </tr>\n",
       "  </thead>\n",
       "  <tbody>\n",
       "    <tr>\n",
       "      <th>0</th>\n",
       "      <td>2022-05-11 16:01:20</td>\n",
       "      <td>cherepovets</td>\n",
       "      <td>ak1456_2058</td>\n",
       "      <td>#7</td>\n",
       "      <td>bus</td>\n",
       "      <td>59.134502</td>\n",
       "      <td>37.923988</td>\n",
       "      <td>15.17</td>\n",
       "      <td>192</td>\n",
       "      <td>1</td>\n",
       "      <td></td>\n",
       "      <td>е440хк_35 [БВ (Н)]</td>\n",
       "      <td>7 [ул. олимпийская - &gt; - ул. наседкина]\\n</td>\n",
       "    </tr>\n",
       "  </tbody>\n",
       "</table>\n",
       "</div>"
      ],
      "text/plain": [
       "            timestamp         clid         uuid route vehicle_type   latitude  \\\n",
       "0 2022-05-11 16:01:20  cherepovets  ak1456_2058    #7          bus  59.134502   \n",
       "\n",
       "   longitude  speed  direction  production garange_number          reg_number  \\\n",
       "0  37.923988  15.17        192           1                 е440хк_35 [БВ (Н)]   \n",
       "\n",
       "                                 route_descr  \n",
       "0  7 [ул. олимпийская - > - ул. наседкина]\\n  "
      ]
     },
     "execution_count": 2,
     "metadata": {},
     "output_type": "execute_result"
    }
   ],
   "source": [
    "parser = ParseLog('log/20220511T174759.log')\n",
    "\n",
    "df = parser.transform_df()\n",
    "\n",
    "df.head(1)"
   ]
  },
  {
   "cell_type": "code",
   "execution_count": 3,
   "id": "68bbdb5c-5001-4a35-b2b7-ab1447aea27b",
   "metadata": {},
   "outputs": [],
   "source": [
    "pg = PostgreSQL(host=HOST,database=DB,login=LOGIN,password=PASSWORD)"
   ]
  },
  {
   "cell_type": "code",
   "execution_count": 4,
   "id": "c36ad866-ef71-4638-bf8e-d06da90393eb",
   "metadata": {},
   "outputs": [
    {
     "name": "stdout",
     "output_type": "stream",
     "text": [
      "CPU times: user 3.5 s, sys: 119 ms, total: 3.61 s\n",
      "Wall time: 11.5 s\n"
     ]
    }
   ],
   "source": [
    "%%time\n",
    "\n",
    "vehicle_type = ['bus', 'tramway', 'minibus', 'trolleybus']\n",
    "\n",
    "for vehicle in vehicle_type:\n",
    "    df_into = df[df.vehicle_type == vehicle]\n",
    "    pg.into_pg_table(\n",
    "        pg_table_name=vehicle,\n",
    "        df=df_into)"
   ]
  },
  {
   "cell_type": "markdown",
   "id": "07d24fcd-9172-4309-9ada-e90d0da4a8ea",
   "metadata": {},
   "source": [
    "Наименование колонок:\n",
    "\n",
    "- `TIMESTAMP` - время в UTC в формате дата:время\n",
    "- `CLID` - vologda или cherepovets\n",
    "- `UUID` - уникальный идентификатор ТС в формате id_перевозчика + \"_\" + id_ТС_в базе_перевозчика\n",
    "- `ROUTE` - \"#\" + номер маршрута \n",
    "- `VEHICLE_TYPE` - 'bus', 'tramway', 'minibus', 'trolleybus'\n",
    "- `LATITUDE` – широта\n",
    "- `LONGITUDE` – долгота\n",
    "- `SPEED` - текущая скорость\n",
    "- `DIRECTION` - азимут\n",
    "- `PRODUCTION` - признак производственного рейса. Когда \"0\" - скорее всего автобус без пассажиров. В Яндекс передаются только данные с флагом \"1\"\n",
    "- `GARANGE_NUMBER` - опционально \"человеческий\" идентификатор ТС для перевозчика\n",
    "- `REG_NUMBER` - госномер ТС, есть не всегда\n",
    "- `ROUTE_DESCR` - текстовый идентификатор траектории маршрута в одном направлении. Нет стандартного формата, можно использовать только как \"хэш\", как ключ для группировки точек по траекториям"
   ]
  },
  {
   "cell_type": "markdown",
   "id": "cdd550cd-77ff-4c76-a6c3-12d6cd9ed2f9",
   "metadata": {},
   "source": [
    "# Создание карты"
   ]
  },
  {
   "cell_type": "code",
   "execution_count": 94,
   "id": "87c0c476-c9c7-452c-9327-d0a63e5a068e",
   "metadata": {},
   "outputs": [
    {
     "name": "stdout",
     "output_type": "stream",
     "text": [
      "User Guide: https://docs.kepler.gl/docs/keplergl-jupyter\n"
     ]
    },
    {
     "data": {
      "application/vnd.jupyter.widget-view+json": {
       "model_id": "a4d113a8e60d453bb9a1c8a5e9d6a788",
       "version_major": 2,
       "version_minor": 0
      },
      "text/plain": [
       "KeplerGl(config={'version': 'v1', 'config': {'visState': {'filters': [{'dataId': ['yelyi5ow8'], 'id': '3ynfdw2…"
      ]
     },
     "metadata": {},
     "output_type": "display_data"
    }
   ],
   "source": [
    "with open('config.json') as f:\n",
    "    config = json.load(f)\n",
    "\n",
    "_map = KeplerGl()\n",
    "_map.config = config\n",
    "\n",
    "_map.add_data(data=df_draw, name='yelyi5ow8')\n",
    "\n",
    "_map"
   ]
  },
  {
   "cell_type": "code",
   "execution_count": null,
   "id": "e560128f-9037-4112-97cf-70dd19917f5e",
   "metadata": {},
   "outputs": [],
   "source": []
  }
 ],
 "metadata": {
  "kernelspec": {
   "display_name": "Python 3 (ipykernel)",
   "language": "python",
   "name": "python3"
  },
  "language_info": {
   "codemirror_mode": {
    "name": "ipython",
    "version": 3
   },
   "file_extension": ".py",
   "mimetype": "text/x-python",
   "name": "python",
   "nbconvert_exporter": "python",
   "pygments_lexer": "ipython3",
   "version": "3.9.7"
  }
 },
 "nbformat": 4,
 "nbformat_minor": 5
}
