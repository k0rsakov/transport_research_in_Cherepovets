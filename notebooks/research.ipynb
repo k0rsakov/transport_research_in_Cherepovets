{
 "cells": [
  {
   "cell_type": "code",
   "execution_count": 1,
   "id": "2c7f8e07-4ec3-4772-b9cd-245f45c5a24f",
   "metadata": {},
   "outputs": [],
   "source": [
    "import os\n",
    "import pandas as pd\n",
    "\n",
    "# импортируем библиотеку для работы с картами\n",
    "# from keplergl import KeplerGl\n",
    "\n",
    "# Импорт собственных классов\n",
    "from ParseLog import ParseLog\n",
    "from PostgreSQL import PostgreSQL\n",
    "\n",
    "# Импорт параметров для подключения к БД\n",
    "from db_parameters import *"
   ]
  },
  {
   "cell_type": "code",
   "execution_count": 2,
   "id": "6b6f8d2b-9b96-4fc8-8f34-f710e8c3814b",
   "metadata": {},
   "outputs": [],
   "source": [
    "pg = PostgreSQL(\n",
    "    host=HOST,\n",
    "    database=DB,\n",
    "    login=LOGIN,\n",
    "    password=PASSWORD\n",
    ")"
   ]
  },
  {
   "cell_type": "code",
   "execution_count": 3,
   "id": "d46d4cc3-8452-4a94-9976-b69b73aa60d5",
   "metadata": {},
   "outputs": [],
   "source": [
    "list_filename = ['log/' + file for file in os.listdir('log')]"
   ]
  },
  {
   "cell_type": "code",
   "execution_count": 4,
   "id": "4b4231d7-0512-42a1-92b0-7e48327fa66c",
   "metadata": {},
   "outputs": [
    {
     "data": {
      "text/plain": [
       "347"
      ]
     },
     "execution_count": 4,
     "metadata": {},
     "output_type": "execute_result"
    }
   ],
   "source": [
    "len(list_filename)"
   ]
  },
  {
   "cell_type": "code",
   "execution_count": 7,
   "id": "a5604353-dee2-4120-a31c-5dc84e9f39c1",
   "metadata": {},
   "outputs": [
    {
     "data": {
      "text/html": [
       "<div>\n",
       "<style scoped>\n",
       "    .dataframe tbody tr th:only-of-type {\n",
       "        vertical-align: middle;\n",
       "    }\n",
       "\n",
       "    .dataframe tbody tr th {\n",
       "        vertical-align: top;\n",
       "    }\n",
       "\n",
       "    .dataframe thead th {\n",
       "        text-align: right;\n",
       "    }\n",
       "</style>\n",
       "<table border=\"1\" class=\"dataframe\">\n",
       "  <thead>\n",
       "    <tr style=\"text-align: right;\">\n",
       "      <th></th>\n",
       "      <th>timestamp</th>\n",
       "      <th>clid</th>\n",
       "      <th>uuid</th>\n",
       "      <th>route</th>\n",
       "      <th>vehicle_type</th>\n",
       "      <th>latitude</th>\n",
       "      <th>longitude</th>\n",
       "      <th>speed</th>\n",
       "      <th>direction</th>\n",
       "      <th>production</th>\n",
       "      <th>garange_number</th>\n",
       "      <th>reg_number</th>\n",
       "      <th>route_descr</th>\n",
       "    </tr>\n",
       "  </thead>\n",
       "  <tbody>\n",
       "  </tbody>\n",
       "</table>\n",
       "</div>"
      ],
      "text/plain": [
       "Empty DataFrame\n",
       "Columns: [timestamp, clid, uuid, route, vehicle_type, latitude, longitude, speed, direction, production, garange_number, reg_number, route_descr]\n",
       "Index: []"
      ]
     },
     "execution_count": 7,
     "metadata": {},
     "output_type": "execute_result"
    }
   ],
   "source": [
    "df_concat = pd.DataFrame(\n",
    "    {\n",
    "        'timestamp':[],\n",
    "        'clid':[],\n",
    "        'uuid':[],\n",
    "        'route':[],\n",
    "        'vehicle_type':[],\n",
    "        'latitude':[],\n",
    "        'longitude':[],\n",
    "        'speed':[],\n",
    "        'direction':[],\n",
    "        'production':[],\n",
    "        'garange_number':[],\n",
    "        'reg_number':[],\n",
    "        'route_descr':[]\n",
    "    }\n",
    ")\n",
    "\n",
    "df_concat"
   ]
  },
  {
   "cell_type": "code",
   "execution_count": 13,
   "id": "b98c9e65-078f-4dd3-b9e7-19a245f8298d",
   "metadata": {},
   "outputs": [
    {
     "name": "stdout",
     "output_type": "stream",
     "text": [
      "CPU times: user 5min 22s, sys: 4.31 s, total: 5min 26s\n",
      "Wall time: 5min 28s\n"
     ]
    }
   ],
   "source": [
    "%%time \n",
    "\n",
    "df_array = []\n",
    "for file in list_filename:\n",
    "    parser = ParseLog(file)\n",
    "    df = parser.transform_df()\n",
    "    df_array.append(df)"
   ]
  },
  {
   "cell_type": "code",
   "execution_count": 14,
   "id": "79c14b6a-18e5-4f68-bcb4-a83bcd5adb9c",
   "metadata": {},
   "outputs": [
    {
     "data": {
      "text/plain": [
       "347"
      ]
     },
     "execution_count": 14,
     "metadata": {},
     "output_type": "execute_result"
    }
   ],
   "source": [
    "len(df_array)"
   ]
  },
  {
   "cell_type": "code",
   "execution_count": null,
   "id": "fe21a372-5ae4-4996-871c-4ef7993d524b",
   "metadata": {},
   "outputs": [
    {
     "name": "stdout",
     "output_type": "stream",
     "text": [
      "CPU times: user 8.56 s, sys: 24 s, total: 32.6 s\n",
      "Wall time: 43.8 s\n"
     ]
    },
    {
     "data": {
      "text/html": [
       "<div>\n",
       "<style scoped>\n",
       "    .dataframe tbody tr th:only-of-type {\n",
       "        vertical-align: middle;\n",
       "    }\n",
       "\n",
       "    .dataframe tbody tr th {\n",
       "        vertical-align: top;\n",
       "    }\n",
       "\n",
       "    .dataframe thead th {\n",
       "        text-align: right;\n",
       "    }\n",
       "</style>\n",
       "<table border=\"1\" class=\"dataframe\">\n",
       "  <thead>\n",
       "    <tr style=\"text-align: right;\">\n",
       "      <th></th>\n",
       "      <th>timestamp</th>\n",
       "      <th>clid</th>\n",
       "      <th>uuid</th>\n",
       "      <th>route</th>\n",
       "      <th>vehicle_type</th>\n",
       "      <th>latitude</th>\n",
       "      <th>longitude</th>\n",
       "      <th>speed</th>\n",
       "      <th>direction</th>\n",
       "      <th>production</th>\n",
       "      <th>garange_number</th>\n",
       "      <th>reg_number</th>\n",
       "      <th>route_descr</th>\n",
       "    </tr>\n",
       "  </thead>\n",
       "  <tbody>\n",
       "    <tr>\n",
       "      <th>0</th>\n",
       "      <td>2022-05-26 16:27:47</td>\n",
       "      <td>cherepovets</td>\n",
       "      <td>ak1456_2058</td>\n",
       "      <td>#</td>\n",
       "      <td>bus</td>\n",
       "      <td>59.128468</td>\n",
       "      <td>37.837383</td>\n",
       "      <td>24.98</td>\n",
       "      <td>326</td>\n",
       "      <td>0</td>\n",
       "      <td></td>\n",
       "      <td>е440хк_35 [БВ (Н)]</td>\n",
       "      <td>\\n</td>\n",
       "    </tr>\n",
       "    <tr>\n",
       "      <th>1</th>\n",
       "      <td>2022-05-26 16:27:44</td>\n",
       "      <td>cherepovets</td>\n",
       "      <td>ak1456_1946</td>\n",
       "      <td>#27</td>\n",
       "      <td>bus</td>\n",
       "      <td>59.135483</td>\n",
       "      <td>37.864201</td>\n",
       "      <td>29.78</td>\n",
       "      <td>273</td>\n",
       "      <td>0</td>\n",
       "      <td></td>\n",
       "      <td>е387хк_35 [БВ (Н)]</td>\n",
       "      <td>27 []\\n</td>\n",
       "    </tr>\n",
       "    <tr>\n",
       "      <th>2</th>\n",
       "      <td>2022-05-26 16:27:45</td>\n",
       "      <td>cherepovets</td>\n",
       "      <td>ak1456_2057</td>\n",
       "      <td>#12</td>\n",
       "      <td>bus</td>\n",
       "      <td>59.130859</td>\n",
       "      <td>37.984455</td>\n",
       "      <td>50.51</td>\n",
       "      <td>101</td>\n",
       "      <td>1</td>\n",
       "      <td></td>\n",
       "      <td>е397хк_35 [БВ (Н)]</td>\n",
       "      <td>12 [доменная - &gt; - ул. олимпийская]\\n</td>\n",
       "    </tr>\n",
       "    <tr>\n",
       "      <th>3</th>\n",
       "      <td>2022-05-26 16:27:43</td>\n",
       "      <td>cherepovets</td>\n",
       "      <td>ak1456_1878</td>\n",
       "      <td>#7</td>\n",
       "      <td>bus</td>\n",
       "      <td>59.127861</td>\n",
       "      <td>37.921082</td>\n",
       "      <td>0.00</td>\n",
       "      <td>0</td>\n",
       "      <td>1</td>\n",
       "      <td></td>\n",
       "      <td>е386хк_35 [БВ (Н)]</td>\n",
       "      <td>7 [ул. наседкина - &gt; - ул. олимпийская]\\n</td>\n",
       "    </tr>\n",
       "    <tr>\n",
       "      <th>4</th>\n",
       "      <td>2022-05-26 16:27:45</td>\n",
       "      <td>cherepovets</td>\n",
       "      <td>ak1456_1862</td>\n",
       "      <td>#18</td>\n",
       "      <td>bus</td>\n",
       "      <td>59.088779</td>\n",
       "      <td>37.913326</td>\n",
       "      <td>14.80</td>\n",
       "      <td>243</td>\n",
       "      <td>1</td>\n",
       "      <td></td>\n",
       "      <td>е332хк_35 [БВ (Н)]</td>\n",
       "      <td>18 [ул. рыбинская (2) -&gt; пр. победы 2]\\n</td>\n",
       "    </tr>\n",
       "  </tbody>\n",
       "</table>\n",
       "</div>"
      ],
      "text/plain": [
       "            timestamp         clid         uuid route vehicle_type   latitude  \\\n",
       "0 2022-05-26 16:27:47  cherepovets  ak1456_2058     #          bus  59.128468   \n",
       "1 2022-05-26 16:27:44  cherepovets  ak1456_1946   #27          bus  59.135483   \n",
       "2 2022-05-26 16:27:45  cherepovets  ak1456_2057   #12          bus  59.130859   \n",
       "3 2022-05-26 16:27:43  cherepovets  ak1456_1878    #7          bus  59.127861   \n",
       "4 2022-05-26 16:27:45  cherepovets  ak1456_1862   #18          bus  59.088779   \n",
       "\n",
       "   longitude  speed  direction  production garange_number          reg_number  \\\n",
       "0  37.837383  24.98        326           0                 е440хк_35 [БВ (Н)]   \n",
       "1  37.864201  29.78        273           0                 е387хк_35 [БВ (Н)]   \n",
       "2  37.984455  50.51        101           1                 е397хк_35 [БВ (Н)]   \n",
       "3  37.921082   0.00          0           1                 е386хк_35 [БВ (Н)]   \n",
       "4  37.913326  14.80        243           1                 е332хк_35 [БВ (Н)]   \n",
       "\n",
       "                                 route_descr  \n",
       "0                                         \\n  \n",
       "1                                    27 []\\n  \n",
       "2      12 [доменная - > - ул. олимпийская]\\n  \n",
       "3  7 [ул. наседкина - > - ул. олимпийская]\\n  \n",
       "4   18 [ул. рыбинская (2) -> пр. победы 2]\\n  "
      ]
     },
     "execution_count": 16,
     "metadata": {},
     "output_type": "execute_result"
    }
   ],
   "source": [
    "%%time\n",
    "\n",
    "df = pd.concat(df_array)\n",
    "\n",
    "df.head()"
   ]
  },
  {
   "cell_type": "code",
   "execution_count": 17,
   "id": "9c775377-fd0b-4611-ae5f-7bc1d56c1b21",
   "metadata": {},
   "outputs": [
    {
     "name": "stdout",
     "output_type": "stream",
     "text": [
      "CPU times: user 2min 22s, sys: 6.37 s, total: 2min 29s\n",
      "Wall time: 2min 34s\n"
     ]
    }
   ],
   "source": [
    "%%time\n",
    "\n",
    "df.to_csv('data_cherepovets.csv',index=False)"
   ]
  },
  {
   "cell_type": "code",
   "execution_count": null,
   "id": "910a9fd2-f402-4c27-8bc9-624f69d4a7e7",
   "metadata": {},
   "outputs": [],
   "source": []
  }
 ],
 "metadata": {
  "kernelspec": {
   "display_name": "Python 3 (ipykernel)",
   "language": "python",
   "name": "python3"
  },
  "language_info": {
   "codemirror_mode": {
    "name": "ipython",
    "version": 3
   },
   "file_extension": ".py",
   "mimetype": "text/x-python",
   "name": "python",
   "nbconvert_exporter": "python",
   "pygments_lexer": "ipython3",
   "version": "3.9.7"
  }
 },
 "nbformat": 4,
 "nbformat_minor": 5
}
