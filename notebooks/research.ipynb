{
 "cells": [
  {
   "cell_type": "code",
   "execution_count": 2,
   "id": "2c7f8e07-4ec3-4772-b9cd-245f45c5a24f",
   "metadata": {},
   "outputs": [],
   "source": [
    "import os\n",
    "import pandas as pd\n",
    "import numpy as np\n",
    "# Для работы с регулярными выражениями\n",
    "import re\n",
    "\n",
    "# импортируем библиотеку для работы с картами\n",
    "# from keplergl import KeplerGl\n",
    "\n",
    "# Импорт собственных классов\n",
    "from ParseLog import ParseLog\n",
    "from PostgreSQL import PostgreSQL\n",
    "\n",
    "# Импорт параметров для подключения к БД\n",
    "from db_parameters import *"
   ]
  },
  {
   "cell_type": "code",
   "execution_count": 2,
   "id": "6b6f8d2b-9b96-4fc8-8f34-f710e8c3814b",
   "metadata": {},
   "outputs": [],
   "source": [
    "pg = PostgreSQL(\n",
    "    host=HOST,\n",
    "    database=DB,\n",
    "    login=LOGIN,\n",
    "    password=PASSWORD\n",
    ")"
   ]
  },
  {
   "cell_type": "code",
   "execution_count": 3,
   "id": "d46d4cc3-8452-4a94-9976-b69b73aa60d5",
   "metadata": {},
   "outputs": [],
   "source": [
    "list_filename = ['log/' + file for file in os.listdir('log')]"
   ]
  },
  {
   "cell_type": "code",
   "execution_count": 4,
   "id": "4b4231d7-0512-42a1-92b0-7e48327fa66c",
   "metadata": {},
   "outputs": [
    {
     "data": {
      "text/plain": [
       "347"
      ]
     },
     "execution_count": 4,
     "metadata": {},
     "output_type": "execute_result"
    }
   ],
   "source": [
    "len(list_filename)"
   ]
  },
  {
   "cell_type": "code",
   "execution_count": 7,
   "id": "a5604353-dee2-4120-a31c-5dc84e9f39c1",
   "metadata": {},
   "outputs": [
    {
     "data": {
      "text/html": [
       "<div>\n",
       "<style scoped>\n",
       "    .dataframe tbody tr th:only-of-type {\n",
       "        vertical-align: middle;\n",
       "    }\n",
       "\n",
       "    .dataframe tbody tr th {\n",
       "        vertical-align: top;\n",
       "    }\n",
       "\n",
       "    .dataframe thead th {\n",
       "        text-align: right;\n",
       "    }\n",
       "</style>\n",
       "<table border=\"1\" class=\"dataframe\">\n",
       "  <thead>\n",
       "    <tr style=\"text-align: right;\">\n",
       "      <th></th>\n",
       "      <th>timestamp</th>\n",
       "      <th>clid</th>\n",
       "      <th>uuid</th>\n",
       "      <th>route</th>\n",
       "      <th>vehicle_type</th>\n",
       "      <th>latitude</th>\n",
       "      <th>longitude</th>\n",
       "      <th>speed</th>\n",
       "      <th>direction</th>\n",
       "      <th>production</th>\n",
       "      <th>garange_number</th>\n",
       "      <th>reg_number</th>\n",
       "      <th>route_descr</th>\n",
       "    </tr>\n",
       "  </thead>\n",
       "  <tbody>\n",
       "  </tbody>\n",
       "</table>\n",
       "</div>"
      ],
      "text/plain": [
       "Empty DataFrame\n",
       "Columns: [timestamp, clid, uuid, route, vehicle_type, latitude, longitude, speed, direction, production, garange_number, reg_number, route_descr]\n",
       "Index: []"
      ]
     },
     "execution_count": 7,
     "metadata": {},
     "output_type": "execute_result"
    }
   ],
   "source": [
    "df_concat = pd.DataFrame(\n",
    "    {\n",
    "        'timestamp':[],\n",
    "        'clid':[],\n",
    "        'uuid':[],\n",
    "        'route':[],\n",
    "        'vehicle_type':[],\n",
    "        'latitude':[],\n",
    "        'longitude':[],\n",
    "        'speed':[],\n",
    "        'direction':[],\n",
    "        'production':[],\n",
    "        'garange_number':[],\n",
    "        'reg_number':[],\n",
    "        'route_descr':[]\n",
    "    }\n",
    ")\n",
    "\n",
    "df_concat"
   ]
  },
  {
   "cell_type": "code",
   "execution_count": 13,
   "id": "b98c9e65-078f-4dd3-b9e7-19a245f8298d",
   "metadata": {},
   "outputs": [
    {
     "name": "stdout",
     "output_type": "stream",
     "text": [
      "CPU times: user 5min 22s, sys: 4.31 s, total: 5min 26s\n",
      "Wall time: 5min 28s\n"
     ]
    }
   ],
   "source": [
    "%%time \n",
    "\n",
    "df_array = []\n",
    "for file in list_filename:\n",
    "    parser = ParseLog(file)\n",
    "    df = parser.transform_df()\n",
    "    df_array.append(df)"
   ]
  },
  {
   "cell_type": "code",
   "execution_count": 14,
   "id": "79c14b6a-18e5-4f68-bcb4-a83bcd5adb9c",
   "metadata": {},
   "outputs": [
    {
     "data": {
      "text/plain": [
       "347"
      ]
     },
     "execution_count": 14,
     "metadata": {},
     "output_type": "execute_result"
    }
   ],
   "source": [
    "len(df_array)"
   ]
  },
  {
   "cell_type": "code",
   "execution_count": null,
   "id": "fe21a372-5ae4-4996-871c-4ef7993d524b",
   "metadata": {},
   "outputs": [
    {
     "name": "stdout",
     "output_type": "stream",
     "text": [
      "CPU times: user 8.56 s, sys: 24 s, total: 32.6 s\n",
      "Wall time: 43.8 s\n"
     ]
    },
    {
     "data": {
      "text/html": [
       "<div>\n",
       "<style scoped>\n",
       "    .dataframe tbody tr th:only-of-type {\n",
       "        vertical-align: middle;\n",
       "    }\n",
       "\n",
       "    .dataframe tbody tr th {\n",
       "        vertical-align: top;\n",
       "    }\n",
       "\n",
       "    .dataframe thead th {\n",
       "        text-align: right;\n",
       "    }\n",
       "</style>\n",
       "<table border=\"1\" class=\"dataframe\">\n",
       "  <thead>\n",
       "    <tr style=\"text-align: right;\">\n",
       "      <th></th>\n",
       "      <th>timestamp</th>\n",
       "      <th>clid</th>\n",
       "      <th>uuid</th>\n",
       "      <th>route</th>\n",
       "      <th>vehicle_type</th>\n",
       "      <th>latitude</th>\n",
       "      <th>longitude</th>\n",
       "      <th>speed</th>\n",
       "      <th>direction</th>\n",
       "      <th>production</th>\n",
       "      <th>garange_number</th>\n",
       "      <th>reg_number</th>\n",
       "      <th>route_descr</th>\n",
       "    </tr>\n",
       "  </thead>\n",
       "  <tbody>\n",
       "    <tr>\n",
       "      <th>0</th>\n",
       "      <td>2022-05-26 16:27:47</td>\n",
       "      <td>cherepovets</td>\n",
       "      <td>ak1456_2058</td>\n",
       "      <td>#</td>\n",
       "      <td>bus</td>\n",
       "      <td>59.128468</td>\n",
       "      <td>37.837383</td>\n",
       "      <td>24.98</td>\n",
       "      <td>326</td>\n",
       "      <td>0</td>\n",
       "      <td></td>\n",
       "      <td>е440хк_35 [БВ (Н)]</td>\n",
       "      <td>\\n</td>\n",
       "    </tr>\n",
       "    <tr>\n",
       "      <th>1</th>\n",
       "      <td>2022-05-26 16:27:44</td>\n",
       "      <td>cherepovets</td>\n",
       "      <td>ak1456_1946</td>\n",
       "      <td>#27</td>\n",
       "      <td>bus</td>\n",
       "      <td>59.135483</td>\n",
       "      <td>37.864201</td>\n",
       "      <td>29.78</td>\n",
       "      <td>273</td>\n",
       "      <td>0</td>\n",
       "      <td></td>\n",
       "      <td>е387хк_35 [БВ (Н)]</td>\n",
       "      <td>27 []\\n</td>\n",
       "    </tr>\n",
       "    <tr>\n",
       "      <th>2</th>\n",
       "      <td>2022-05-26 16:27:45</td>\n",
       "      <td>cherepovets</td>\n",
       "      <td>ak1456_2057</td>\n",
       "      <td>#12</td>\n",
       "      <td>bus</td>\n",
       "      <td>59.130859</td>\n",
       "      <td>37.984455</td>\n",
       "      <td>50.51</td>\n",
       "      <td>101</td>\n",
       "      <td>1</td>\n",
       "      <td></td>\n",
       "      <td>е397хк_35 [БВ (Н)]</td>\n",
       "      <td>12 [доменная - &gt; - ул. олимпийская]\\n</td>\n",
       "    </tr>\n",
       "    <tr>\n",
       "      <th>3</th>\n",
       "      <td>2022-05-26 16:27:43</td>\n",
       "      <td>cherepovets</td>\n",
       "      <td>ak1456_1878</td>\n",
       "      <td>#7</td>\n",
       "      <td>bus</td>\n",
       "      <td>59.127861</td>\n",
       "      <td>37.921082</td>\n",
       "      <td>0.00</td>\n",
       "      <td>0</td>\n",
       "      <td>1</td>\n",
       "      <td></td>\n",
       "      <td>е386хк_35 [БВ (Н)]</td>\n",
       "      <td>7 [ул. наседкина - &gt; - ул. олимпийская]\\n</td>\n",
       "    </tr>\n",
       "    <tr>\n",
       "      <th>4</th>\n",
       "      <td>2022-05-26 16:27:45</td>\n",
       "      <td>cherepovets</td>\n",
       "      <td>ak1456_1862</td>\n",
       "      <td>#18</td>\n",
       "      <td>bus</td>\n",
       "      <td>59.088779</td>\n",
       "      <td>37.913326</td>\n",
       "      <td>14.80</td>\n",
       "      <td>243</td>\n",
       "      <td>1</td>\n",
       "      <td></td>\n",
       "      <td>е332хк_35 [БВ (Н)]</td>\n",
       "      <td>18 [ул. рыбинская (2) -&gt; пр. победы 2]\\n</td>\n",
       "    </tr>\n",
       "  </tbody>\n",
       "</table>\n",
       "</div>"
      ],
      "text/plain": [
       "            timestamp         clid         uuid route vehicle_type   latitude  \\\n",
       "0 2022-05-26 16:27:47  cherepovets  ak1456_2058     #          bus  59.128468   \n",
       "1 2022-05-26 16:27:44  cherepovets  ak1456_1946   #27          bus  59.135483   \n",
       "2 2022-05-26 16:27:45  cherepovets  ak1456_2057   #12          bus  59.130859   \n",
       "3 2022-05-26 16:27:43  cherepovets  ak1456_1878    #7          bus  59.127861   \n",
       "4 2022-05-26 16:27:45  cherepovets  ak1456_1862   #18          bus  59.088779   \n",
       "\n",
       "   longitude  speed  direction  production garange_number          reg_number  \\\n",
       "0  37.837383  24.98        326           0                 е440хк_35 [БВ (Н)]   \n",
       "1  37.864201  29.78        273           0                 е387хк_35 [БВ (Н)]   \n",
       "2  37.984455  50.51        101           1                 е397хк_35 [БВ (Н)]   \n",
       "3  37.921082   0.00          0           1                 е386хк_35 [БВ (Н)]   \n",
       "4  37.913326  14.80        243           1                 е332хк_35 [БВ (Н)]   \n",
       "\n",
       "                                 route_descr  \n",
       "0                                         \\n  \n",
       "1                                    27 []\\n  \n",
       "2      12 [доменная - > - ул. олимпийская]\\n  \n",
       "3  7 [ул. наседкина - > - ул. олимпийская]\\n  \n",
       "4   18 [ул. рыбинская (2) -> пр. победы 2]\\n  "
      ]
     },
     "execution_count": 16,
     "metadata": {},
     "output_type": "execute_result"
    }
   ],
   "source": [
    "%%time\n",
    "\n",
    "df = pd.concat(df_array)\n",
    "\n",
    "df.head()"
   ]
  },
  {
   "cell_type": "markdown",
   "id": "c27e2994-30cb-4599-a955-82210679114a",
   "metadata": {},
   "source": [
    "Наименование колонок:\n",
    "\n",
    "- `TIMESTAMP` - время в UTC в формате дата:время\n",
    "- `CLID` - vologda или cherepovets\n",
    "- `UUID` - уникальный идентификатор ТС в формате id_перевозчика + \"_\" + id_ТС_в базе_перевозчика\n",
    "- `ROUTE` - \"#\" + номер маршрута \n",
    "- `VEHICLE_TYPE` - 'bus', 'tramway', 'minibus', 'trolleybus'\n",
    "- `LATITUDE` – широта\n",
    "- `LONGITUDE` – долгота\n",
    "- `SPEED` - текущая скорость\n",
    "- `DIRECTION` - азимут\n",
    "- `PRODUCTION` - признак производственного рейса. Когда \"0\" - скорее всего автобус без пассажиров. В Яндекс передаются только данные с флагом \"1\"\n",
    "- `GARANGE_NUMBER` - опционально \"человеческий\" идентификатор ТС для перевозчика\n",
    "- `REG_NUMBER` - госномер ТС, есть не всегда\n",
    "- `ROUTE_DESCR` - текстовый идентификатор траектории маршрута в одном направлении. Нет стандартного формата, можно использовать только как \"хэш\", как ключ для группировки точек по траекториям"
   ]
  },
  {
   "cell_type": "code",
   "execution_count": 17,
   "id": "9c775377-fd0b-4611-ae5f-7bc1d56c1b21",
   "metadata": {},
   "outputs": [
    {
     "name": "stdout",
     "output_type": "stream",
     "text": [
      "CPU times: user 2min 22s, sys: 6.37 s, total: 2min 29s\n",
      "Wall time: 2min 34s\n"
     ]
    }
   ],
   "source": [
    "%%time\n",
    "\n",
    "df.to_csv('data_cherepovets.csv',index=False)"
   ]
  },
  {
   "cell_type": "code",
   "execution_count": 20,
   "id": "910a9fd2-f402-4c27-8bc9-624f69d4a7e7",
   "metadata": {},
   "outputs": [
    {
     "name": "stdout",
     "output_type": "stream",
     "text": [
      "CPU times: user 9.09 s, sys: 26.7 s, total: 35.8 s\n",
      "Wall time: 1min 43s\n"
     ]
    }
   ],
   "source": [
    "%%time \n",
    "\n",
    "df = df[df.clid == 'cherepovets']"
   ]
  },
  {
   "cell_type": "markdown",
   "id": "149e739e-72d5-47e3-83a1-5502bdb7394e",
   "metadata": {},
   "source": [
    "______\n",
    "# Tramway"
   ]
  },
  {
   "cell_type": "code",
   "execution_count": 3,
   "id": "f9b49781-07ac-4282-84ab-84db545b1660",
   "metadata": {},
   "outputs": [
    {
     "name": "stdout",
     "output_type": "stream",
     "text": [
      "CPU times: user 33 s, sys: 5.17 s, total: 38.2 s\n",
      "Wall time: 40.7 s\n"
     ]
    },
    {
     "data": {
      "text/html": [
       "<div>\n",
       "<style scoped>\n",
       "    .dataframe tbody tr th:only-of-type {\n",
       "        vertical-align: middle;\n",
       "    }\n",
       "\n",
       "    .dataframe tbody tr th {\n",
       "        vertical-align: top;\n",
       "    }\n",
       "\n",
       "    .dataframe thead th {\n",
       "        text-align: right;\n",
       "    }\n",
       "</style>\n",
       "<table border=\"1\" class=\"dataframe\">\n",
       "  <thead>\n",
       "    <tr style=\"text-align: right;\">\n",
       "      <th></th>\n",
       "      <th>timestamp</th>\n",
       "      <th>clid</th>\n",
       "      <th>uuid</th>\n",
       "      <th>route</th>\n",
       "      <th>vehicle_type</th>\n",
       "      <th>latitude</th>\n",
       "      <th>longitude</th>\n",
       "      <th>speed</th>\n",
       "      <th>direction</th>\n",
       "      <th>production</th>\n",
       "      <th>garange_number</th>\n",
       "      <th>reg_number</th>\n",
       "      <th>route_descr</th>\n",
       "    </tr>\n",
       "  </thead>\n",
       "  <tbody>\n",
       "    <tr>\n",
       "      <th>48</th>\n",
       "      <td>2022-05-26 16:28:04</td>\n",
       "      <td>cherepovets</td>\n",
       "      <td>chertram_41755825</td>\n",
       "      <td>4</td>\n",
       "      <td>tramway</td>\n",
       "      <td>59.131313</td>\n",
       "      <td>37.916977</td>\n",
       "      <td>9.0</td>\n",
       "      <td>282</td>\n",
       "      <td>1</td>\n",
       "      <td>NaN</td>\n",
       "      <td>NaN</td>\n",
       "      <td>4 (4)</td>\n",
       "    </tr>\n",
       "    <tr>\n",
       "      <th>49</th>\n",
       "      <td>2022-05-26 16:28:06</td>\n",
       "      <td>cherepovets</td>\n",
       "      <td>chertram_53940190</td>\n",
       "      <td>8</td>\n",
       "      <td>tramway</td>\n",
       "      <td>59.128433</td>\n",
       "      <td>37.941490</td>\n",
       "      <td>19.0</td>\n",
       "      <td>282</td>\n",
       "      <td>1</td>\n",
       "      <td>NaN</td>\n",
       "      <td>NaN</td>\n",
       "      <td>8 (159)</td>\n",
       "    </tr>\n",
       "    <tr>\n",
       "      <th>50</th>\n",
       "      <td>2022-05-26 16:27:54</td>\n",
       "      <td>cherepovets</td>\n",
       "      <td>chertram_42866217</td>\n",
       "      <td>4</td>\n",
       "      <td>tramway</td>\n",
       "      <td>59.122143</td>\n",
       "      <td>37.990363</td>\n",
       "      <td>0.0</td>\n",
       "      <td>114</td>\n",
       "      <td>1</td>\n",
       "      <td>NaN</td>\n",
       "      <td>NaN</td>\n",
       "      <td>4 (4)</td>\n",
       "    </tr>\n",
       "    <tr>\n",
       "      <th>51</th>\n",
       "      <td>2022-05-26 16:28:01</td>\n",
       "      <td>cherepovets</td>\n",
       "      <td>chertram_41773729</td>\n",
       "      <td>4</td>\n",
       "      <td>tramway</td>\n",
       "      <td>59.119607</td>\n",
       "      <td>38.008412</td>\n",
       "      <td>20.0</td>\n",
       "      <td>104</td>\n",
       "      <td>0</td>\n",
       "      <td>NaN</td>\n",
       "      <td>NaN</td>\n",
       "      <td>4 (5)</td>\n",
       "    </tr>\n",
       "    <tr>\n",
       "      <th>52</th>\n",
       "      <td>2022-05-26 16:28:01</td>\n",
       "      <td>cherepovets</td>\n",
       "      <td>chertram_42873569</td>\n",
       "      <td>4</td>\n",
       "      <td>tramway</td>\n",
       "      <td>59.135555</td>\n",
       "      <td>37.862617</td>\n",
       "      <td>30.0</td>\n",
       "      <td>92</td>\n",
       "      <td>1</td>\n",
       "      <td>NaN</td>\n",
       "      <td>NaN</td>\n",
       "      <td>4 (5)</td>\n",
       "    </tr>\n",
       "  </tbody>\n",
       "</table>\n",
       "</div>"
      ],
      "text/plain": [
       "              timestamp         clid               uuid route vehicle_type  \\\n",
       "48  2022-05-26 16:28:04  cherepovets  chertram_41755825     4      tramway   \n",
       "49  2022-05-26 16:28:06  cherepovets  chertram_53940190     8      tramway   \n",
       "50  2022-05-26 16:27:54  cherepovets  chertram_42866217     4      tramway   \n",
       "51  2022-05-26 16:28:01  cherepovets  chertram_41773729     4      tramway   \n",
       "52  2022-05-26 16:28:01  cherepovets  chertram_42873569     4      tramway   \n",
       "\n",
       "     latitude  longitude  speed  direction  production  garange_number  \\\n",
       "48  59.131313  37.916977    9.0        282           1             NaN   \n",
       "49  59.128433  37.941490   19.0        282           1             NaN   \n",
       "50  59.122143  37.990363    0.0        114           1             NaN   \n",
       "51  59.119607  38.008412   20.0        104           0             NaN   \n",
       "52  59.135555  37.862617   30.0         92           1             NaN   \n",
       "\n",
       "   reg_number route_descr  \n",
       "48        NaN       4 (4)  \n",
       "49        NaN     8 (159)  \n",
       "50        NaN       4 (4)  \n",
       "51        NaN       4 (5)  \n",
       "52        NaN       4 (5)  "
      ]
     },
     "execution_count": 3,
     "metadata": {},
     "output_type": "execute_result"
    }
   ],
   "source": [
    "%%time\n",
    "\n",
    "df = pd.read_csv('data_cherepovets.csv')\n",
    "df = df[(df.clid == 'cherepovets')&(df.vehicle_type == 'tramway')]\n",
    "\n",
    "df.route_descr = df.route_descr.apply(lambda x: re.sub('\\n','',x))\n",
    "df.route = df.route.apply(lambda x: re.sub('#','',x))\n",
    "\n",
    "df = df[df.route_descr != '']\n",
    "\n",
    "df.head()"
   ]
  },
  {
   "cell_type": "code",
   "execution_count": 4,
   "id": "d0a16d4c-8d5e-4d9f-b685-c554ebf6d9a8",
   "metadata": {},
   "outputs": [
    {
     "data": {
      "text/plain": [
       "(930787, 4)"
      ]
     },
     "execution_count": 4,
     "metadata": {},
     "output_type": "execute_result"
    }
   ],
   "source": [
    "df_agg = df.groupby(['latitude','longitude','route']).agg({\n",
    "    'speed': np.median\n",
    "})\n",
    "\n",
    "df_agg.reset_index(inplace=True)\n",
    "\n",
    "df_agg.shape"
   ]
  },
  {
   "cell_type": "code",
   "execution_count": 5,
   "id": "1f727ea0-6ea4-4bc0-b179-5e3654bb9ef7",
   "metadata": {},
   "outputs": [],
   "source": [
    "# df_agg.route = \n",
    "df_agg.route += ' маршрут'"
   ]
  },
  {
   "cell_type": "code",
   "execution_count": 6,
   "id": "8f810af2-9cd5-49cd-a40d-7b1c447a32b1",
   "metadata": {},
   "outputs": [],
   "source": [
    "# df_agg.head(100)"
   ]
  },
  {
   "cell_type": "code",
   "execution_count": 10,
   "id": "52f38930-1385-4c32-b512-43b76e1a22fa",
   "metadata": {},
   "outputs": [],
   "source": [
    "df_agg.to_csv('tram_cherepovets_agg.csv',index=False)"
   ]
  },
  {
   "cell_type": "code",
   "execution_count": 8,
   "id": "95a90381-ee6c-47c4-be2b-45a1f89991b9",
   "metadata": {},
   "outputs": [
    {
     "data": {
      "text/html": [
       "<div>\n",
       "<style scoped>\n",
       "    .dataframe tbody tr th:only-of-type {\n",
       "        vertical-align: middle;\n",
       "    }\n",
       "\n",
       "    .dataframe tbody tr th {\n",
       "        vertical-align: top;\n",
       "    }\n",
       "\n",
       "    .dataframe thead th {\n",
       "        text-align: right;\n",
       "    }\n",
       "</style>\n",
       "<table border=\"1\" class=\"dataframe\">\n",
       "  <thead>\n",
       "    <tr style=\"text-align: right;\">\n",
       "      <th></th>\n",
       "      <th>latitude</th>\n",
       "      <th>longitude</th>\n",
       "      <th>route</th>\n",
       "      <th>speed</th>\n",
       "    </tr>\n",
       "  </thead>\n",
       "  <tbody>\n",
       "    <tr>\n",
       "      <th>0</th>\n",
       "      <td>59.119125</td>\n",
       "      <td>38.007228</td>\n",
       "      <td>8 маршрут</td>\n",
       "      <td>0.0</td>\n",
       "    </tr>\n",
       "    <tr>\n",
       "      <th>1</th>\n",
       "      <td>59.119418</td>\n",
       "      <td>38.009167</td>\n",
       "      <td>4 маршрут</td>\n",
       "      <td>15.0</td>\n",
       "    </tr>\n",
       "    <tr>\n",
       "      <th>2</th>\n",
       "      <td>59.119427</td>\n",
       "      <td>38.007840</td>\n",
       "      <td>4 маршрут</td>\n",
       "      <td>0.0</td>\n",
       "    </tr>\n",
       "    <tr>\n",
       "      <th>3</th>\n",
       "      <td>59.119427</td>\n",
       "      <td>38.009087</td>\n",
       "      <td>4 маршрут</td>\n",
       "      <td>0.0</td>\n",
       "    </tr>\n",
       "    <tr>\n",
       "      <th>4</th>\n",
       "      <td>59.119427</td>\n",
       "      <td>38.009122</td>\n",
       "      <td>8 маршрут</td>\n",
       "      <td>22.0</td>\n",
       "    </tr>\n",
       "    <tr>\n",
       "      <th>...</th>\n",
       "      <td>...</td>\n",
       "      <td>...</td>\n",
       "      <td>...</td>\n",
       "      <td>...</td>\n",
       "    </tr>\n",
       "    <tr>\n",
       "      <th>930782</th>\n",
       "      <td>59.138630</td>\n",
       "      <td>37.921712</td>\n",
       "      <td>8 маршрут</td>\n",
       "      <td>9.0</td>\n",
       "    </tr>\n",
       "    <tr>\n",
       "      <th>930783</th>\n",
       "      <td>59.138630</td>\n",
       "      <td>37.921727</td>\n",
       "      <td>8 маршрут</td>\n",
       "      <td>7.0</td>\n",
       "    </tr>\n",
       "    <tr>\n",
       "      <th>930784</th>\n",
       "      <td>59.138648</td>\n",
       "      <td>37.921517</td>\n",
       "      <td>8 маршрут</td>\n",
       "      <td>11.0</td>\n",
       "    </tr>\n",
       "    <tr>\n",
       "      <th>930785</th>\n",
       "      <td>59.138657</td>\n",
       "      <td>37.921555</td>\n",
       "      <td>8 маршрут</td>\n",
       "      <td>11.0</td>\n",
       "    </tr>\n",
       "    <tr>\n",
       "      <th>930786</th>\n",
       "      <td>59.138657</td>\n",
       "      <td>37.921833</td>\n",
       "      <td>8 маршрут</td>\n",
       "      <td>13.0</td>\n",
       "    </tr>\n",
       "  </tbody>\n",
       "</table>\n",
       "<p>930787 rows × 4 columns</p>\n",
       "</div>"
      ],
      "text/plain": [
       "         latitude  longitude      route  speed\n",
       "0       59.119125  38.007228  8 маршрут    0.0\n",
       "1       59.119418  38.009167  4 маршрут   15.0\n",
       "2       59.119427  38.007840  4 маршрут    0.0\n",
       "3       59.119427  38.009087  4 маршрут    0.0\n",
       "4       59.119427  38.009122  8 маршрут   22.0\n",
       "...           ...        ...        ...    ...\n",
       "930782  59.138630  37.921712  8 маршрут    9.0\n",
       "930783  59.138630  37.921727  8 маршрут    7.0\n",
       "930784  59.138648  37.921517  8 маршрут   11.0\n",
       "930785  59.138657  37.921555  8 маршрут   11.0\n",
       "930786  59.138657  37.921833  8 маршрут   13.0\n",
       "\n",
       "[930787 rows x 4 columns]"
      ]
     },
     "execution_count": 8,
     "metadata": {},
     "output_type": "execute_result"
    }
   ],
   "source": [
    "df_agg"
   ]
  },
  {
   "cell_type": "code",
   "execution_count": 9,
   "id": "33600173-2b4d-4d4a-afee-30ac033c2b21",
   "metadata": {},
   "outputs": [
    {
     "data": {
      "text/plain": [
       "array(['8 маршрут', '4 маршрут', '4А маршрут', '2 маршрут'], dtype=object)"
      ]
     },
     "execution_count": 9,
     "metadata": {},
     "output_type": "execute_result"
    }
   ],
   "source": [
    "df_agg.route.unique()"
   ]
  },
  {
   "cell_type": "markdown",
   "id": "33be7fd7-bfa3-49d0-8b83-c45f0a16be7c",
   "metadata": {},
   "source": [
    "# Bus"
   ]
  },
  {
   "cell_type": "code",
   "execution_count": 107,
   "id": "1041d731-1dcd-4802-97ed-c3942530d831",
   "metadata": {},
   "outputs": [
    {
     "name": "stdout",
     "output_type": "stream",
     "text": [
      "CPU times: user 1min, sys: 11.3 s, total: 1min 11s\n",
      "Wall time: 1min 16s\n"
     ]
    },
    {
     "data": {
      "text/html": [
       "<div>\n",
       "<style scoped>\n",
       "    .dataframe tbody tr th:only-of-type {\n",
       "        vertical-align: middle;\n",
       "    }\n",
       "\n",
       "    .dataframe tbody tr th {\n",
       "        vertical-align: top;\n",
       "    }\n",
       "\n",
       "    .dataframe thead th {\n",
       "        text-align: right;\n",
       "    }\n",
       "</style>\n",
       "<table border=\"1\" class=\"dataframe\">\n",
       "  <thead>\n",
       "    <tr style=\"text-align: right;\">\n",
       "      <th></th>\n",
       "      <th>timestamp</th>\n",
       "      <th>clid</th>\n",
       "      <th>uuid</th>\n",
       "      <th>route</th>\n",
       "      <th>vehicle_type</th>\n",
       "      <th>latitude</th>\n",
       "      <th>longitude</th>\n",
       "      <th>speed</th>\n",
       "      <th>direction</th>\n",
       "      <th>production</th>\n",
       "      <th>garange_number</th>\n",
       "      <th>reg_number</th>\n",
       "      <th>route_descr</th>\n",
       "    </tr>\n",
       "  </thead>\n",
       "  <tbody>\n",
       "    <tr>\n",
       "      <th>1</th>\n",
       "      <td>2022-05-26 16:27:44</td>\n",
       "      <td>cherepovets</td>\n",
       "      <td>ak1456_1946</td>\n",
       "      <td>27</td>\n",
       "      <td>bus</td>\n",
       "      <td>59.135483</td>\n",
       "      <td>37.864201</td>\n",
       "      <td>29.78</td>\n",
       "      <td>273</td>\n",
       "      <td>0</td>\n",
       "      <td>NaN</td>\n",
       "      <td>е387хк_35 [БВ (Н)]</td>\n",
       "      <td>27 []</td>\n",
       "    </tr>\n",
       "    <tr>\n",
       "      <th>2</th>\n",
       "      <td>2022-05-26 16:27:45</td>\n",
       "      <td>cherepovets</td>\n",
       "      <td>ak1456_2057</td>\n",
       "      <td>12</td>\n",
       "      <td>bus</td>\n",
       "      <td>59.130859</td>\n",
       "      <td>37.984455</td>\n",
       "      <td>50.51</td>\n",
       "      <td>101</td>\n",
       "      <td>1</td>\n",
       "      <td>NaN</td>\n",
       "      <td>е397хк_35 [БВ (Н)]</td>\n",
       "      <td>12 [доменная - &gt; - ул. олимпийская]</td>\n",
       "    </tr>\n",
       "    <tr>\n",
       "      <th>3</th>\n",
       "      <td>2022-05-26 16:27:43</td>\n",
       "      <td>cherepovets</td>\n",
       "      <td>ak1456_1878</td>\n",
       "      <td>7</td>\n",
       "      <td>bus</td>\n",
       "      <td>59.127861</td>\n",
       "      <td>37.921082</td>\n",
       "      <td>0.00</td>\n",
       "      <td>0</td>\n",
       "      <td>1</td>\n",
       "      <td>NaN</td>\n",
       "      <td>е386хк_35 [БВ (Н)]</td>\n",
       "      <td>7 [ул. наседкина - &gt; - ул. олимпийская]</td>\n",
       "    </tr>\n",
       "    <tr>\n",
       "      <th>4</th>\n",
       "      <td>2022-05-26 16:27:45</td>\n",
       "      <td>cherepovets</td>\n",
       "      <td>ak1456_1862</td>\n",
       "      <td>18</td>\n",
       "      <td>bus</td>\n",
       "      <td>59.088779</td>\n",
       "      <td>37.913326</td>\n",
       "      <td>14.80</td>\n",
       "      <td>243</td>\n",
       "      <td>1</td>\n",
       "      <td>NaN</td>\n",
       "      <td>е332хк_35 [БВ (Н)]</td>\n",
       "      <td>18 [ул. рыбинская (2) -&gt; пр. победы 2]</td>\n",
       "    </tr>\n",
       "    <tr>\n",
       "      <th>5</th>\n",
       "      <td>2022-05-26 16:27:48</td>\n",
       "      <td>cherepovets</td>\n",
       "      <td>ak1456_1934</td>\n",
       "      <td>27</td>\n",
       "      <td>bus</td>\n",
       "      <td>59.135277</td>\n",
       "      <td>37.857082</td>\n",
       "      <td>0.00</td>\n",
       "      <td>270</td>\n",
       "      <td>1</td>\n",
       "      <td>NaN</td>\n",
       "      <td>е355хк_35 [БВ (Н)]</td>\n",
       "      <td>27 [ул. монт - клер - &gt; - доменная]</td>\n",
       "    </tr>\n",
       "  </tbody>\n",
       "</table>\n",
       "</div>"
      ],
      "text/plain": [
       "             timestamp         clid         uuid route vehicle_type  \\\n",
       "1  2022-05-26 16:27:44  cherepovets  ak1456_1946    27          bus   \n",
       "2  2022-05-26 16:27:45  cherepovets  ak1456_2057    12          bus   \n",
       "3  2022-05-26 16:27:43  cherepovets  ak1456_1878     7          bus   \n",
       "4  2022-05-26 16:27:45  cherepovets  ak1456_1862    18          bus   \n",
       "5  2022-05-26 16:27:48  cherepovets  ak1456_1934    27          bus   \n",
       "\n",
       "    latitude  longitude  speed  direction  production  garange_number  \\\n",
       "1  59.135483  37.864201  29.78        273           0             NaN   \n",
       "2  59.130859  37.984455  50.51        101           1             NaN   \n",
       "3  59.127861  37.921082   0.00          0           1             NaN   \n",
       "4  59.088779  37.913326  14.80        243           1             NaN   \n",
       "5  59.135277  37.857082   0.00        270           1             NaN   \n",
       "\n",
       "           reg_number                              route_descr  \n",
       "1  е387хк_35 [БВ (Н)]                                    27 []  \n",
       "2  е397хк_35 [БВ (Н)]      12 [доменная - > - ул. олимпийская]  \n",
       "3  е386хк_35 [БВ (Н)]  7 [ул. наседкина - > - ул. олимпийская]  \n",
       "4  е332хк_35 [БВ (Н)]   18 [ул. рыбинская (2) -> пр. победы 2]  \n",
       "5  е355хк_35 [БВ (Н)]      27 [ул. монт - клер - > - доменная]  "
      ]
     },
     "execution_count": 107,
     "metadata": {},
     "output_type": "execute_result"
    }
   ],
   "source": [
    "%%time\n",
    "\n",
    "df = pd.read_csv('data_cherepovets.csv')\n",
    "df = df[\n",
    "    (df.clid == 'cherepovets')&\n",
    "    (df.vehicle_type == 'bus')&\n",
    "    (df.speed >= 0.0)&\n",
    "    (df.speed <= 60.0)\n",
    "]\n",
    "\n",
    "df.route_descr = df.route_descr.apply(lambda x: re.sub('\\n','',x))\n",
    "df.route = df.route.apply(lambda x: re.sub('#','',x))\n",
    "\n",
    "df = df[df.route_descr != '']\n",
    "\n",
    "df.head()"
   ]
  },
  {
   "cell_type": "code",
   "execution_count": 108,
   "id": "544819ba-03cd-4061-884b-274f04dfa08a",
   "metadata": {},
   "outputs": [],
   "source": [
    "df_31 = df[df.route == '31']"
   ]
  },
  {
   "cell_type": "code",
   "execution_count": 110,
   "id": "b6a49d51-127f-4a16-9276-29da66d4d3d5",
   "metadata": {},
   "outputs": [
    {
     "data": {
      "text/plain": [
       "(2250816, 3)"
      ]
     },
     "execution_count": 110,
     "metadata": {},
     "output_type": "execute_result"
    }
   ],
   "source": [
    "df_agg = df_31.groupby(['latitude','longitude']).agg({\n",
    "    'speed': np.median\n",
    "})\n",
    "\n",
    "df_agg.reset_index(inplace=True)\n",
    "\n",
    "df_agg.shape"
   ]
  },
  {
   "cell_type": "code",
   "execution_count": 111,
   "id": "70540427-eba0-455c-9fb1-81c338b28085",
   "metadata": {},
   "outputs": [
    {
     "data": {
      "text/html": [
       "<div>\n",
       "<style scoped>\n",
       "    .dataframe tbody tr th:only-of-type {\n",
       "        vertical-align: middle;\n",
       "    }\n",
       "\n",
       "    .dataframe tbody tr th {\n",
       "        vertical-align: top;\n",
       "    }\n",
       "\n",
       "    .dataframe thead th {\n",
       "        text-align: right;\n",
       "    }\n",
       "</style>\n",
       "<table border=\"1\" class=\"dataframe\">\n",
       "  <thead>\n",
       "    <tr style=\"text-align: right;\">\n",
       "      <th></th>\n",
       "      <th>latitude</th>\n",
       "      <th>longitude</th>\n",
       "      <th>speed</th>\n",
       "    </tr>\n",
       "  </thead>\n",
       "  <tbody>\n",
       "    <tr>\n",
       "      <th>0</th>\n",
       "      <td>58.951724</td>\n",
       "      <td>38.199854</td>\n",
       "      <td>0.0</td>\n",
       "    </tr>\n",
       "    <tr>\n",
       "      <th>1</th>\n",
       "      <td>58.956443</td>\n",
       "      <td>38.211302</td>\n",
       "      <td>0.0</td>\n",
       "    </tr>\n",
       "    <tr>\n",
       "      <th>2</th>\n",
       "      <td>58.957845</td>\n",
       "      <td>38.210065</td>\n",
       "      <td>0.0</td>\n",
       "    </tr>\n",
       "    <tr>\n",
       "      <th>3</th>\n",
       "      <td>59.073038</td>\n",
       "      <td>37.934931</td>\n",
       "      <td>0.0</td>\n",
       "    </tr>\n",
       "    <tr>\n",
       "      <th>4</th>\n",
       "      <td>59.073772</td>\n",
       "      <td>37.932676</td>\n",
       "      <td>0.0</td>\n",
       "    </tr>\n",
       "    <tr>\n",
       "      <th>...</th>\n",
       "      <td>...</td>\n",
       "      <td>...</td>\n",
       "      <td>...</td>\n",
       "    </tr>\n",
       "    <tr>\n",
       "      <th>2250811</th>\n",
       "      <td>59.174946</td>\n",
       "      <td>37.946486</td>\n",
       "      <td>55.0</td>\n",
       "    </tr>\n",
       "    <tr>\n",
       "      <th>2250812</th>\n",
       "      <td>59.175596</td>\n",
       "      <td>37.946355</td>\n",
       "      <td>55.0</td>\n",
       "    </tr>\n",
       "    <tr>\n",
       "      <th>2250813</th>\n",
       "      <td>59.177141</td>\n",
       "      <td>37.946985</td>\n",
       "      <td>0.0</td>\n",
       "    </tr>\n",
       "    <tr>\n",
       "      <th>2250814</th>\n",
       "      <td>59.177375</td>\n",
       "      <td>37.946706</td>\n",
       "      <td>24.0</td>\n",
       "    </tr>\n",
       "    <tr>\n",
       "      <th>2250815</th>\n",
       "      <td>59.177816</td>\n",
       "      <td>37.945946</td>\n",
       "      <td>33.0</td>\n",
       "    </tr>\n",
       "  </tbody>\n",
       "</table>\n",
       "<p>2250816 rows × 3 columns</p>\n",
       "</div>"
      ],
      "text/plain": [
       "          latitude  longitude  speed\n",
       "0        58.951724  38.199854    0.0\n",
       "1        58.956443  38.211302    0.0\n",
       "2        58.957845  38.210065    0.0\n",
       "3        59.073038  37.934931    0.0\n",
       "4        59.073772  37.932676    0.0\n",
       "...            ...        ...    ...\n",
       "2250811  59.174946  37.946486   55.0\n",
       "2250812  59.175596  37.946355   55.0\n",
       "2250813  59.177141  37.946985    0.0\n",
       "2250814  59.177375  37.946706   24.0\n",
       "2250815  59.177816  37.945946   33.0\n",
       "\n",
       "[2250816 rows x 3 columns]"
      ]
     },
     "execution_count": 111,
     "metadata": {},
     "output_type": "execute_result"
    }
   ],
   "source": [
    "df_agg"
   ]
  },
  {
   "cell_type": "code",
   "execution_count": 121,
   "id": "2d95b701-9346-4266-887e-44d6769dcda3",
   "metadata": {},
   "outputs": [],
   "source": [
    "df_agg.to_csv('bus_31_cherepovets_agg.csv',index=False)"
   ]
  },
  {
   "cell_type": "code",
   "execution_count": 70,
   "id": "c447b025-ed70-46ef-888a-615708649628",
   "metadata": {},
   "outputs": [],
   "source": [
    "gdf = gpd.read_file('export.geojson')"
   ]
  },
  {
   "cell_type": "code",
   "execution_count": 74,
   "id": "54ba5d21-2e14-4107-8a14-4a44af3dc437",
   "metadata": {},
   "outputs": [
    {
     "data": {
      "text/plain": [
       "array(['yes', None], dtype=object)"
      ]
     },
     "execution_count": 74,
     "metadata": {},
     "output_type": "execute_result"
    }
   ],
   "source": [
    "gdf.bus.unique()"
   ]
  },
  {
   "cell_type": "code",
   "execution_count": 76,
   "id": "3b506605-9383-40ed-98cf-fe5dcc04a90b",
   "metadata": {},
   "outputs": [],
   "source": [
    "gdf = gdf[['name','geometry']]"
   ]
  },
  {
   "cell_type": "code",
   "execution_count": 77,
   "id": "ab0ed98b-8eb3-4fbe-834d-cd9241e5cc36",
   "metadata": {},
   "outputs": [],
   "source": [
    "gdf.to_file(filename='bus_stop.geojson', driver=\"GeoJSON\")"
   ]
  },
  {
   "cell_type": "code",
   "execution_count": 103,
   "id": "bbbecd4c-fb90-4ad0-b87c-2c3761e04285",
   "metadata": {},
   "outputs": [],
   "source": [
    "da = df_agg.speed.unique()"
   ]
  },
  {
   "cell_type": "code",
   "execution_count": 106,
   "id": "b0668d3a-e035-4458-8459-26ba12fcd8e9",
   "metadata": {},
   "outputs": [
    {
     "data": {
      "text/plain": [
       "array([ 0.  ,  0.5 ,  1.  ,  1.5 ,  2.  ,  2.5 ,  3.  ,  3.5 ,  4.  ,\n",
       "        4.5 ,  5.  ,  5.5 ,  6.  ,  6.5 ,  7.  ,  7.5 ,  8.  ,  8.5 ,\n",
       "        9.  ,  9.5 , 10.  , 10.5 , 11.  , 11.5 , 12.  , 12.5 , 13.  ,\n",
       "       13.5 , 14.  , 14.5 , 15.  , 15.5 , 16.  , 16.5 , 17.  , 17.5 ,\n",
       "       18.  , 18.5 , 19.  , 19.5 , 20.  , 20.5 , 21.  , 21.5 , 22.  ,\n",
       "       22.5 , 23.  , 23.5 , 24.  , 24.5 , 25.  , 25.16, 25.5 , 25.53,\n",
       "       26.  , 26.5 , 27.  , 27.5 , 28.  , 28.12, 28.5 , 28.67, 29.  ,\n",
       "       29.5 , 30.  , 30.34, 30.5 , 31.  , 31.5 , 32.  , 32.5 , 32.74,\n",
       "       33.  , 33.5 , 34.  , 34.41, 34.5 , 35.  , 35.5 , 36.  , 36.5 ,\n",
       "       37.  , 37.5 , 38.  , 38.5 , 39.  , 39.5 , 40.  , 40.5 , 41.  ,\n",
       "       41.5 , 42.  , 42.5 , 43.  , 43.5 , 44.  , 44.5 , 45.  , 45.5 ,\n",
       "       46.  , 46.5 , 47.  , 47.5 , 48.  , 48.5 , 49.  , 49.5 , 50.  ,\n",
       "       50.5 , 51.  , 51.5 , 52.  , 52.5 , 53.  , 53.5 , 54.  , 54.5 ,\n",
       "       55.  , 55.5 , 56.  , 56.5 , 57.  , 57.5 , 58.  , 58.5 , 59.  ,\n",
       "       59.5 , 60.  ])"
      ]
     },
     "execution_count": 106,
     "metadata": {},
     "output_type": "execute_result"
    }
   ],
   "source": [
    "np.sort(da)"
   ]
  },
  {
   "cell_type": "code",
   "execution_count": null,
   "id": "f4fc825e-20f0-48ac-aa0a-d815e979a4c8",
   "metadata": {},
   "outputs": [],
   "source": []
  },
  {
   "cell_type": "code",
   "execution_count": null,
   "id": "70c6ecea-cf66-4d48-801f-d15c3a14a094",
   "metadata": {},
   "outputs": [],
   "source": []
  },
  {
   "cell_type": "code",
   "execution_count": 85,
   "id": "4b384710-d105-4387-a0f3-25af9f73e3d5",
   "metadata": {},
   "outputs": [
    {
     "data": {
      "text/plain": [
       "188.0"
      ]
     },
     "execution_count": 85,
     "metadata": {},
     "output_type": "execute_result"
    }
   ],
   "source": [
    "np.max(df_agg.speed)"
   ]
  },
  {
   "cell_type": "code",
   "execution_count": 91,
   "id": "71a47647-ea4a-4ac0-a660-1f42e2802ae0",
   "metadata": {},
   "outputs": [],
   "source": [
    "df_agg = df_agg[(df_agg.speed >= 0.0) & (df_agg.speed <= 60.0)]"
   ]
  },
  {
   "cell_type": "code",
   "execution_count": null,
   "id": "a8fb8e03-79ef-463c-b907-36e5f6f5a453",
   "metadata": {},
   "outputs": [],
   "source": [
    "df"
   ]
  },
  {
   "cell_type": "code",
   "execution_count": null,
   "id": "eefab36f-8698-4728-9e1c-ea5be023e5e2",
   "metadata": {},
   "outputs": [],
   "source": []
  },
  {
   "cell_type": "markdown",
   "id": "e7447548-62c8-40d3-a987-ea422cbeb93d",
   "metadata": {
    "jp-MarkdownHeadingCollapsed": true,
    "tags": []
   },
   "source": [
    "# Try Overpass-api"
   ]
  },
  {
   "cell_type": "code",
   "execution_count": null,
   "id": "10c58611-7d78-4249-89f5-02dff08486e4",
   "metadata": {},
   "outputs": [],
   "source": []
  },
  {
   "cell_type": "code",
   "execution_count": null,
   "id": "e6cac62a-8f17-463d-903e-cff2a4ed565a",
   "metadata": {},
   "outputs": [],
   "source": []
  },
  {
   "cell_type": "code",
   "execution_count": 65,
   "id": "036316d7-c900-4b27-b111-9e1344f5cd1e",
   "metadata": {},
   "outputs": [],
   "source": [
    "import overpy"
   ]
  },
  {
   "cell_type": "code",
   "execution_count": 66,
   "id": "d94bc13f-a521-402d-a06b-c1c5cf861518",
   "metadata": {},
   "outputs": [],
   "source": [
    "api = overpy.Overpass()"
   ]
  },
  {
   "cell_type": "code",
   "execution_count": null,
   "id": "7b0cc31d-f494-427b-80c7-95e3a2caa277",
   "metadata": {},
   "outputs": [],
   "source": []
  },
  {
   "cell_type": "code",
   "execution_count": 67,
   "id": "c8355423-f125-4ba5-b59e-594bf73b4b8e",
   "metadata": {},
   "outputs": [],
   "source": [
    "result = api.query(\"\"\"\n",
    "/*\n",
    "This has been generated by the overpass-turbo wizard.\n",
    "The original search was:\n",
    "“railway=tram_stop”\n",
    "*/\n",
    "[out:json][timeout:25];\n",
    "// gather results\n",
    "(\n",
    "  // query part for: “railway=tram_stop”\n",
    "  node[\"railway\"=\"tram_stop\"](59.06068293840616,37.78472900390625,59.19615304670681,38.056297302246094);\n",
    "  way[\"railway\"=\"tram_stop\"](59.06068293840616,37.78472900390625,59.19615304670681,38.056297302246094);\n",
    "  relation[\"railway\"=\"tram_stop\"](59.06068293840616,37.78472900390625,59.19615304670681,38.056297302246094);\n",
    ");\n",
    "// print results\n",
    "out body;\n",
    ">;\n",
    "out skel qt;\n",
    "    \"\"\")"
   ]
  },
  {
   "cell_type": "code",
   "execution_count": null,
   "id": "922a3602-5ecc-4efd-be48-abe0dd380520",
   "metadata": {},
   "outputs": [],
   "source": []
  },
  {
   "cell_type": "code",
   "execution_count": 69,
   "id": "14aa0327-0e56-48d5-a183-fc78c688a085",
   "metadata": {},
   "outputs": [
    {
     "data": {
      "text/plain": [
       "overpy.Result"
      ]
     },
     "execution_count": 69,
     "metadata": {},
     "output_type": "execute_result"
    }
   ],
   "source": [
    "type(result)"
   ]
  },
  {
   "cell_type": "code",
   "execution_count": 28,
   "id": "4da10e1f-15c9-4d99-ba75-b0d4e09b4b17",
   "metadata": {},
   "outputs": [],
   "source": [
    "for way in result.ways:\n",
    "    print(\"Name: %s\" % way.tags.get(\"name\", \"n/a\"))\n",
    "    print(\"  Highway: %s\" % way.tags.get(\"highway\", \"n/a\"))\n",
    "    print(\"  Nodes:\")\n",
    "    for node in way.nodes:\n",
    "        print(\"    Lat: %f, Lon: %f\" % (node.lat, node.lon))"
   ]
  },
  {
   "cell_type": "code",
   "execution_count": 39,
   "id": "fdcefd30-a934-40c6-847b-c94c313cb7f7",
   "metadata": {},
   "outputs": [
    {
     "data": {
      "text/plain": [
       "[<overpy.Node id=475354155 lat=59.1315609 lon=37.9172183>,\n",
       " <overpy.Node id=475356448 lat=59.1254892 lon=37.9658755>,\n",
       " <overpy.Node id=475356454 lat=59.1221483 lon=37.9901637>,\n",
       " <overpy.Node id=475356457 lat=59.1197031 lon=38.0077884>,\n",
       " <overpy.Node id=476289463 lat=59.1321860 lon=37.9100421>,\n",
       " <overpy.Node id=476289468 lat=59.1337185 lon=37.9035187>,\n",
       " <overpy.Node id=476289473 lat=59.1354074 lon=37.8955272>,\n",
       " <overpy.Node id=476289477 lat=59.1353632 lon=37.8896466>,\n",
       " <overpy.Node id=476289480 lat=59.1354697 lon=37.8748661>,\n",
       " <overpy.Node id=590684253 lat=59.1355862 lon=37.8581460>,\n",
       " <overpy.Node id=590822341 lat=59.1356380 lon=37.8594717>,\n",
       " <overpy.Node id=590822532 lat=59.1327173 lon=37.8397573>,\n",
       " <overpy.Node id=591853174 lat=59.1313679 lon=37.9166694>,\n",
       " <overpy.Node id=592629105 lat=59.1355552 lon=37.9189806>,\n",
       " <overpy.Node id=592632960 lat=59.1285925 lon=37.9402938>,\n",
       " <overpy.Node id=592632961 lat=59.1285125 lon=37.9409823>,\n",
       " <overpy.Node id=592632966 lat=59.1264668 lon=37.9584066>,\n",
       " <overpy.Node id=592632970 lat=59.1241544 lon=37.9757686>,\n",
       " <overpy.Node id=592632972 lat=59.1240558 lon=37.9764752>,\n",
       " <overpy.Node id=592632974 lat=59.1231957 lon=37.9826139>,\n",
       " <overpy.Node id=592632994 lat=59.1341450 lon=37.9338484>,\n",
       " <overpy.Node id=592632995 lat=59.1371049 lon=37.9257774>,\n",
       " <overpy.Node id=592632996 lat=59.1306558 lon=37.9227676>,\n",
       " <overpy.Node id=593134253 lat=59.1293785 lon=37.9336889>,\n",
       " <overpy.Node id=593134412 lat=59.1345354 lon=37.8489936>,\n",
       " <overpy.Node id=598155058 lat=59.1254167 lon=37.9664469>,\n",
       " <overpy.Node id=638283503 lat=59.1262076 lon=37.9604457>,\n",
       " <overpy.Node id=669103160 lat=59.1325288 lon=37.9082120>,\n",
       " <overpy.Node id=697292564 lat=59.1231418 lon=37.9830025>,\n",
       " <overpy.Node id=697292565 lat=59.1206354 lon=38.0010689>,\n",
       " <overpy.Node id=697292566 lat=59.1207010 lon=38.0005961>,\n",
       " <overpy.Node id=704774385 lat=59.1220845 lon=37.9906235>,\n",
       " <overpy.Node id=9381510317 lat=59.1343619 lon=37.8330335>,\n",
       " <overpy.Node id=9381510318 lat=59.1343469 lon=37.8332986>]"
      ]
     },
     "execution_count": 39,
     "metadata": {},
     "output_type": "execute_result"
    }
   ],
   "source": [
    "result.nodes"
   ]
  },
  {
   "cell_type": "markdown",
   "id": "e4371fa4-4cc7-4598-8977-a0e5cda8b39c",
   "metadata": {},
   "source": [
    "# Geopandas"
   ]
  },
  {
   "cell_type": "code",
   "execution_count": 40,
   "id": "7148ce48-8089-4a85-87d1-fda8be4f3e6a",
   "metadata": {},
   "outputs": [
    {
     "name": "stderr",
     "output_type": "stream",
     "text": [
      "/opt/anaconda3/lib/python3.9/site-packages/geopandas/_compat.py:111: UserWarning: The Shapely GEOS version (3.10.2-CAPI-1.16.0) is incompatible with the GEOS version PyGEOS was compiled with (3.10.1-CAPI-1.16.0). Conversions between both will be slow.\n",
      "  warnings.warn(\n"
     ]
    }
   ],
   "source": [
    "import geopandas as gpd"
   ]
  },
  {
   "cell_type": "code",
   "execution_count": 41,
   "id": "f2d8651c-e5cf-430b-b80a-242781cd3705",
   "metadata": {},
   "outputs": [],
   "source": [
    "gdf = gpd.read_file('export.geojson')"
   ]
  },
  {
   "cell_type": "code",
   "execution_count": 44,
   "id": "61b77725-cd5d-44db-af8c-f4516f78ed4e",
   "metadata": {},
   "outputs": [],
   "source": [
    "gdf = gdf[['name','geometry']]"
   ]
  },
  {
   "cell_type": "code",
   "execution_count": 51,
   "id": "e48a68de-0181-4564-bf88-67e63c0e046d",
   "metadata": {},
   "outputs": [],
   "source": [
    "gdf.to_file(filename='tram_stop.geojson', driver=\"GeoJSON\")"
   ]
  },
  {
   "cell_type": "code",
   "execution_count": null,
   "id": "4371ea80-c583-44ab-b131-9fb34f04eae0",
   "metadata": {},
   "outputs": [],
   "source": []
  },
  {
   "cell_type": "markdown",
   "id": "81686cce-725b-4ace-9a22-a26038690208",
   "metadata": {},
   "source": [
    "# Test examples"
   ]
  },
  {
   "cell_type": "code",
   "execution_count": null,
   "id": "54f06513-1910-404b-9267-652e0882435b",
   "metadata": {},
   "outputs": [],
   "source": []
  },
  {
   "cell_type": "code",
   "execution_count": null,
   "id": "d2ed3486-6e42-4e00-a14a-30631ba007f2",
   "metadata": {},
   "outputs": [],
   "source": []
  },
  {
   "cell_type": "code",
   "execution_count": null,
   "id": "843adacf-130e-4a5c-b156-a48256f43d3c",
   "metadata": {},
   "outputs": [],
   "source": []
  },
  {
   "cell_type": "code",
   "execution_count": null,
   "id": "1fad8695-23d9-45f0-9aec-ae9c8e7ef33f",
   "metadata": {},
   "outputs": [],
   "source": []
  },
  {
   "cell_type": "code",
   "execution_count": null,
   "id": "51e1871c-fc60-4f2d-9618-0d45b8554051",
   "metadata": {},
   "outputs": [],
   "source": []
  }
 ],
 "metadata": {
  "kernelspec": {
   "display_name": "Python 3 (ipykernel)",
   "language": "python",
   "name": "python3"
  },
  "language_info": {
   "codemirror_mode": {
    "name": "ipython",
    "version": 3
   },
   "file_extension": ".py",
   "mimetype": "text/x-python",
   "name": "python",
   "nbconvert_exporter": "python",
   "pygments_lexer": "ipython3",
   "version": "3.9.7"
  },
  "toc-autonumbering": true
 },
 "nbformat": 4,
 "nbformat_minor": 5
}
