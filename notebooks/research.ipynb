{
 "cells": [
  {
   "cell_type": "code",
   "execution_count": 7,
   "id": "1bf322b9-c533-41ec-b536-b9398a51a260",
   "metadata": {},
   "outputs": [],
   "source": [
    "import pandas as pd\n",
    "import json\n",
    "from tqdm import tqdm"
   ]
  },
  {
   "cell_type": "code",
   "execution_count": 2,
   "id": "547421bb-2dd2-4d34-ae17-ad9e78dbd9da",
   "metadata": {},
   "outputs": [],
   "source": [
    "a = []\n",
    "\n",
    "f = open('20220511T174759.log')\n",
    "line = f.readline()\n",
    "while line:\n",
    "    line = f.readline()\n",
    "    a.append(line)\n",
    "    \n",
    "f.close()    "
   ]
  },
  {
   "cell_type": "code",
   "execution_count": 6,
   "id": "bb0a0241-33bc-4868-8cda-6b7848e6d141",
   "metadata": {},
   "outputs": [
    {
     "data": {
      "text/plain": [
       "'11052022:160119;cherepovets;ak1456_1881;#;bus;59.1339225769043;37.97321701049805;0.00;0;0;;е254хк_35 [БВ (Н)];\\n'"
      ]
     },
     "execution_count": 6,
     "metadata": {},
     "output_type": "execute_result"
    }
   ],
   "source": [
    "a[0]"
   ]
  },
  {
   "cell_type": "code",
   "execution_count": 13,
   "id": "b82cb65a-88af-40b5-b998-25efe99c8a40",
   "metadata": {},
   "outputs": [],
   "source": [
    "df = pd.DataFrame([sub.split(\":\") for sub in a])\n",
    "df.columns = ['date', 'data']\n",
    "df = df[df.date != '']"
   ]
  },
  {
   "cell_type": "code",
   "execution_count": 45,
   "id": "3f713c5d-446c-47b7-bdcf-a37488331648",
   "metadata": {},
   "outputs": [
    {
     "data": {
      "text/plain": [
       "(67600, 2)"
      ]
     },
     "execution_count": 45,
     "metadata": {},
     "output_type": "execute_result"
    }
   ],
   "source": [
    "df.shape"
   ]
  },
  {
   "cell_type": "code",
   "execution_count": 40,
   "id": "26b794a0-219c-4f12-9d15-47fe77f7dad8",
   "metadata": {},
   "outputs": [
    {
     "name": "stdout",
     "output_type": "stream",
     "text": [
      "CPU times: user 22.6 s, sys: 168 ms, total: 22.8 s\n",
      "Wall time: 22.7 s\n"
     ]
    },
    {
     "data": {
      "text/plain": [
       "(67600, 13)"
      ]
     },
     "execution_count": 40,
     "metadata": {},
     "output_type": "execute_result"
    }
   ],
   "source": [
    "%%time\n",
    "df_append = []\n",
    "\n",
    "for i in range(len(df.data)):\n",
    "    try:\n",
    "        df_append.append(pd.DataFrame(df.data[i].split(\";\")).T)\n",
    "    except AttributeError:\n",
    "        pass\n",
    "    \n",
    "df_append = pd.concat(df_append)    \n",
    "\n",
    "df_append.shape"
   ]
  },
  {
   "cell_type": "code",
   "execution_count": 60,
   "id": "e63f80b1-9e40-4eb4-a791-10a6f2bac719",
   "metadata": {},
   "outputs": [],
   "source": [
    "df_test_date = df.copy(deep=True)\n",
    "df_test_data = df_append.copy(deep=True)"
   ]
  },
  {
   "cell_type": "code",
   "execution_count": 61,
   "id": "d7642ae9-57f4-409f-b3f5-fdeb3dcf6981",
   "metadata": {},
   "outputs": [],
   "source": [
    "df_test_data = df_test_data.reset_index(drop=True)"
   ]
  },
  {
   "cell_type": "code",
   "execution_count": 66,
   "id": "0cc24089-5984-46d2-b9c7-1afa3c190303",
   "metadata": {},
   "outputs": [],
   "source": [
    "df_main = pd.concat([df_test_date, df_test_data],axis=1)"
   ]
  },
  {
   "cell_type": "code",
   "execution_count": 70,
   "id": "750b17a1-9ff2-4e94-a0cf-aea26c8dc612",
   "metadata": {},
   "outputs": [
    {
     "data": {
      "text/html": [
       "<div>\n",
       "<style scoped>\n",
       "    .dataframe tbody tr th:only-of-type {\n",
       "        vertical-align: middle;\n",
       "    }\n",
       "\n",
       "    .dataframe tbody tr th {\n",
       "        vertical-align: top;\n",
       "    }\n",
       "\n",
       "    .dataframe thead th {\n",
       "        text-align: right;\n",
       "    }\n",
       "</style>\n",
       "<table border=\"1\" class=\"dataframe\">\n",
       "  <thead>\n",
       "    <tr style=\"text-align: right;\">\n",
       "      <th></th>\n",
       "      <th>date</th>\n",
       "      <th>data</th>\n",
       "      <th>0</th>\n",
       "      <th>1</th>\n",
       "      <th>2</th>\n",
       "      <th>3</th>\n",
       "      <th>4</th>\n",
       "      <th>5</th>\n",
       "      <th>6</th>\n",
       "      <th>7</th>\n",
       "      <th>8</th>\n",
       "      <th>9</th>\n",
       "      <th>10</th>\n",
       "      <th>11</th>\n",
       "      <th>12</th>\n",
       "    </tr>\n",
       "  </thead>\n",
       "  <tbody>\n",
       "    <tr>\n",
       "      <th>0</th>\n",
       "      <td>11052022</td>\n",
       "      <td>160119;cherepovets;ak1456_1881;#;bus;59.133922...</td>\n",
       "      <td>160119</td>\n",
       "      <td>cherepovets</td>\n",
       "      <td>ak1456_1881</td>\n",
       "      <td>#</td>\n",
       "      <td>bus</td>\n",
       "      <td>59.1339225769043</td>\n",
       "      <td>37.97321701049805</td>\n",
       "      <td>0.00</td>\n",
       "      <td>0</td>\n",
       "      <td>0</td>\n",
       "      <td></td>\n",
       "      <td>е254хк_35 [БВ (Н)]</td>\n",
       "      <td>\\n</td>\n",
       "    </tr>\n",
       "    <tr>\n",
       "      <th>1</th>\n",
       "      <td>11052022</td>\n",
       "      <td>160117;cherepovets;ak1456_2424;#7;bus;59.12198...</td>\n",
       "      <td>160117</td>\n",
       "      <td>cherepovets</td>\n",
       "      <td>ak1456_2424</td>\n",
       "      <td>#7</td>\n",
       "      <td>bus</td>\n",
       "      <td>59.12198257446289</td>\n",
       "      <td>37.97989273071289</td>\n",
       "      <td>9.44</td>\n",
       "      <td>8</td>\n",
       "      <td>1</td>\n",
       "      <td></td>\n",
       "      <td>е401хк_35 [БВ (Н)]</td>\n",
       "      <td>7 [ул. олимпийская - &gt; - ул. наседкина]\\n</td>\n",
       "    </tr>\n",
       "    <tr>\n",
       "      <th>2</th>\n",
       "      <td>11052022</td>\n",
       "      <td>160117;cherepovets;ak1456_1946;#27;bus;59.0967...</td>\n",
       "      <td>160117</td>\n",
       "      <td>cherepovets</td>\n",
       "      <td>ak1456_1946</td>\n",
       "      <td>#27</td>\n",
       "      <td>bus</td>\n",
       "      <td>59.096702575683594</td>\n",
       "      <td>37.9358024597168</td>\n",
       "      <td>28.49</td>\n",
       "      <td>280</td>\n",
       "      <td>1</td>\n",
       "      <td></td>\n",
       "      <td>е387хк_35 [БВ (Н)]</td>\n",
       "      <td>27 [ул. монт - клер - &gt; - доменная]\\n</td>\n",
       "    </tr>\n",
       "    <tr>\n",
       "      <th>3</th>\n",
       "      <td>11052022</td>\n",
       "      <td>160118;cherepovets;ak1456_1892;#8;bus;59.12646...</td>\n",
       "      <td>160118</td>\n",
       "      <td>cherepovets</td>\n",
       "      <td>ak1456_1892</td>\n",
       "      <td>#8</td>\n",
       "      <td>bus</td>\n",
       "      <td>59.126468658447266</td>\n",
       "      <td>37.91294479370117</td>\n",
       "      <td>17.76</td>\n",
       "      <td>103</td>\n",
       "      <td>1</td>\n",
       "      <td></td>\n",
       "      <td>е329хк_35 [БВ (Н)]</td>\n",
       "      <td>8 [доменная - &gt; - ул. красная]\\n</td>\n",
       "    </tr>\n",
       "    <tr>\n",
       "      <th>4</th>\n",
       "      <td>11052022</td>\n",
       "      <td>160115;cherepovets;ak1456_2408;#18;bus;59.1187...</td>\n",
       "      <td>160115</td>\n",
       "      <td>cherepovets</td>\n",
       "      <td>ak1456_2408</td>\n",
       "      <td>#18</td>\n",
       "      <td>bus</td>\n",
       "      <td>59.1187744140625</td>\n",
       "      <td>37.90309143066406</td>\n",
       "      <td>0.00</td>\n",
       "      <td>13</td>\n",
       "      <td>1</td>\n",
       "      <td></td>\n",
       "      <td>е407хк_35 [БВ (Н)]</td>\n",
       "      <td>18 [ул. рыбинская (2) -&gt; пр. победы 2]\\n</td>\n",
       "    </tr>\n",
       "  </tbody>\n",
       "</table>\n",
       "</div>"
      ],
      "text/plain": [
       "       date                                               data       0  \\\n",
       "0  11052022  160119;cherepovets;ak1456_1881;#;bus;59.133922...  160119   \n",
       "1  11052022  160117;cherepovets;ak1456_2424;#7;bus;59.12198...  160117   \n",
       "2  11052022  160117;cherepovets;ak1456_1946;#27;bus;59.0967...  160117   \n",
       "3  11052022  160118;cherepovets;ak1456_1892;#8;bus;59.12646...  160118   \n",
       "4  11052022  160115;cherepovets;ak1456_2408;#18;bus;59.1187...  160115   \n",
       "\n",
       "             1            2    3    4                   5                  6  \\\n",
       "0  cherepovets  ak1456_1881    #  bus    59.1339225769043  37.97321701049805   \n",
       "1  cherepovets  ak1456_2424   #7  bus   59.12198257446289  37.97989273071289   \n",
       "2  cherepovets  ak1456_1946  #27  bus  59.096702575683594   37.9358024597168   \n",
       "3  cherepovets  ak1456_1892   #8  bus  59.126468658447266  37.91294479370117   \n",
       "4  cherepovets  ak1456_2408  #18  bus    59.1187744140625  37.90309143066406   \n",
       "\n",
       "       7    8  9 10                  11  \\\n",
       "0   0.00    0  0     е254хк_35 [БВ (Н)]   \n",
       "1   9.44    8  1     е401хк_35 [БВ (Н)]   \n",
       "2  28.49  280  1     е387хк_35 [БВ (Н)]   \n",
       "3  17.76  103  1     е329хк_35 [БВ (Н)]   \n",
       "4   0.00   13  1     е407хк_35 [БВ (Н)]   \n",
       "\n",
       "                                          12  \n",
       "0                                         \\n  \n",
       "1  7 [ул. олимпийская - > - ул. наседкина]\\n  \n",
       "2      27 [ул. монт - клер - > - доменная]\\n  \n",
       "3           8 [доменная - > - ул. красная]\\n  \n",
       "4   18 [ул. рыбинская (2) -> пр. победы 2]\\n  "
      ]
     },
     "execution_count": 70,
     "metadata": {},
     "output_type": "execute_result"
    }
   ],
   "source": [
    "df_main.head()"
   ]
  },
  {
   "cell_type": "code",
   "execution_count": 75,
   "id": "2ada8c13-3fa3-4d79-9984-faa6d4d9278e",
   "metadata": {},
   "outputs": [],
   "source": [
    "df_draw = df_main[['date',5,6]]"
   ]
  },
  {
   "cell_type": "code",
   "execution_count": null,
   "id": "ffa97e36-5921-4b7d-8680-1e22aba307a7",
   "metadata": {},
   "outputs": [],
   "source": []
  },
  {
   "cell_type": "code",
   "execution_count": 76,
   "id": "7789126a-29e8-4c5b-bc01-2f45b77a6156",
   "metadata": {},
   "outputs": [],
   "source": [
    "new_name_columns = ['date','latitude','longitude']"
   ]
  },
  {
   "cell_type": "code",
   "execution_count": 77,
   "id": "f18c3a84-654f-4d66-8779-593e39decb25",
   "metadata": {},
   "outputs": [
    {
     "ename": "TypeError",
     "evalue": "replace() missing 1 required positional argument: 'repl'",
     "output_type": "error",
     "traceback": [
      "\u001b[0;31m---------------------------------------------------------------------------\u001b[0m",
      "\u001b[0;31mTypeError\u001b[0m                                 Traceback (most recent call last)",
      "\u001b[0;32m/var/folders/0f/ntxh16bd6_n4w7zgcxcts17c0000gn/T/ipykernel_1078/543640550.py\u001b[0m in \u001b[0;36m<module>\u001b[0;34m\u001b[0m\n\u001b[0;32m----> 1\u001b[0;31m \u001b[0mdf_draw\u001b[0m\u001b[0;34m.\u001b[0m\u001b[0mcolumns\u001b[0m\u001b[0;34m.\u001b[0m\u001b[0mstr\u001b[0m\u001b[0;34m.\u001b[0m\u001b[0mreplace\u001b[0m\u001b[0;34m(\u001b[0m\u001b[0mnew_name_columns\u001b[0m\u001b[0;34m)\u001b[0m\u001b[0;34m\u001b[0m\u001b[0;34m\u001b[0m\u001b[0m\n\u001b[0m",
      "\u001b[0;32m/opt/anaconda3/lib/python3.9/site-packages/pandas/core/strings/accessor.py\u001b[0m in \u001b[0;36mwrapper\u001b[0;34m(self, *args, **kwargs)\u001b[0m\n\u001b[1;32m    114\u001b[0m                 )\n\u001b[1;32m    115\u001b[0m                 \u001b[0;32mraise\u001b[0m \u001b[0mTypeError\u001b[0m\u001b[0;34m(\u001b[0m\u001b[0mmsg\u001b[0m\u001b[0;34m)\u001b[0m\u001b[0;34m\u001b[0m\u001b[0;34m\u001b[0m\u001b[0m\n\u001b[0;32m--> 116\u001b[0;31m             \u001b[0;32mreturn\u001b[0m \u001b[0mfunc\u001b[0m\u001b[0;34m(\u001b[0m\u001b[0mself\u001b[0m\u001b[0;34m,\u001b[0m \u001b[0;34m*\u001b[0m\u001b[0margs\u001b[0m\u001b[0;34m,\u001b[0m \u001b[0;34m**\u001b[0m\u001b[0mkwargs\u001b[0m\u001b[0;34m)\u001b[0m\u001b[0;34m\u001b[0m\u001b[0;34m\u001b[0m\u001b[0m\n\u001b[0m\u001b[1;32m    117\u001b[0m \u001b[0;34m\u001b[0m\u001b[0m\n\u001b[1;32m    118\u001b[0m         \u001b[0mwrapper\u001b[0m\u001b[0;34m.\u001b[0m\u001b[0m__name__\u001b[0m \u001b[0;34m=\u001b[0m \u001b[0mfunc_name\u001b[0m\u001b[0;34m\u001b[0m\u001b[0;34m\u001b[0m\u001b[0m\n",
      "\u001b[0;31mTypeError\u001b[0m: replace() missing 1 required positional argument: 'repl'"
     ]
    }
   ],
   "source": [
    "df_draw.columns.str.replace(new_name_columns)"
   ]
  },
  {
   "cell_type": "code",
   "execution_count": null,
   "id": "20b1e9bc-bc8c-48c1-b6cd-cea6e50d8cf5",
   "metadata": {},
   "outputs": [],
   "source": []
  },
  {
   "cell_type": "code",
   "execution_count": null,
   "id": "a3fd54d9-364b-4476-8c1b-0bae6a8b597d",
   "metadata": {},
   "outputs": [],
   "source": []
  },
  {
   "cell_type": "code",
   "execution_count": null,
   "id": "87c0c476-c9c7-452c-9327-d0a63e5a068e",
   "metadata": {},
   "outputs": [],
   "source": []
  },
  {
   "cell_type": "code",
   "execution_count": null,
   "id": "6e4675e2-b3b8-4757-a08d-00f8cfc1ef89",
   "metadata": {},
   "outputs": [],
   "source": [
    "headers = ['latitude', 'longitude']\n",
    "\n",
    "df_coordinates = pd.DataFrame(coordinates, columns = headers)\n",
    "df_coordinates"
   ]
  }
 ],
 "metadata": {
  "kernelspec": {
   "display_name": "Python 3 (ipykernel)",
   "language": "python",
   "name": "python3"
  },
  "language_info": {
   "codemirror_mode": {
    "name": "ipython",
    "version": 3
   },
   "file_extension": ".py",
   "mimetype": "text/x-python",
   "name": "python",
   "nbconvert_exporter": "python",
   "pygments_lexer": "ipython3",
   "version": "3.9.7"
  }
 },
 "nbformat": 4,
 "nbformat_minor": 5
}
