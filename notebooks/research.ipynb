{
 "cells": [
  {
   "cell_type": "code",
   "execution_count": 1,
   "id": "1bf322b9-c533-41ec-b536-b9398a51a260",
   "metadata": {},
   "outputs": [
    {
     "name": "stderr",
     "output_type": "stream",
     "text": [
      "/opt/anaconda3/lib/python3.9/site-packages/geopandas/_compat.py:111: UserWarning: The Shapely GEOS version (3.10.2-CAPI-1.16.0) is incompatible with the GEOS version PyGEOS was compiled with (3.10.1-CAPI-1.16.0). Conversions between both will be slow.\n",
      "  warnings.warn(\n"
     ]
    }
   ],
   "source": [
    "import pandas as pd\n",
    "import json\n",
    "from tqdm import tqdm\n",
    "\n",
    "# импортируем библиотеку для работы с картами\n",
    "from keplergl import KeplerGl"
   ]
  },
  {
   "cell_type": "code",
   "execution_count": 73,
   "id": "ce567a19-851c-4097-b191-44d0d8bc8228",
   "metadata": {},
   "outputs": [],
   "source": [
    "f = open('20220511T174759.log')\n",
    "line = f.readline()"
   ]
  },
  {
   "cell_type": "code",
   "execution_count": 74,
   "id": "5196a9a7-d2ac-4bd2-a1d5-25c41d902b1f",
   "metadata": {},
   "outputs": [
    {
     "data": {
      "text/plain": [
       "'11052022:160120;cherepovets;ak1456_2058;#7;bus;59.13450241088867;37.923988342285156;15.17;192;1;;е440хк_35 [БВ (Н)];7 [ул. олимпийская - > - ул. наседкина]\\n'"
      ]
     },
     "execution_count": 74,
     "metadata": {},
     "output_type": "execute_result"
    }
   ],
   "source": [
    "line"
   ]
  },
  {
   "cell_type": "markdown",
   "id": "cadfee14-6300-47e5-bbce-dd8e7d6d8586",
   "metadata": {},
   "source": [
    "[парсер .log](https://medium.datadriveninvestor.com/importing-log-files-with-ease-cb855982fa8c)"
   ]
  },
  {
   "cell_type": "code",
   "execution_count": 75,
   "id": "547421bb-2dd2-4d34-ae17-ad9e78dbd9da",
   "metadata": {},
   "outputs": [],
   "source": [
    "a = []\n",
    "\n",
    "f = open('20220511T174759.log')\n",
    "line = f.readline()\n",
    "while line:\n",
    "    line = f.readline()\n",
    "    a.append(line)\n",
    "    \n",
    "f.close()    "
   ]
  },
  {
   "cell_type": "code",
   "execution_count": 80,
   "id": "b82cb65a-88af-40b5-b998-25efe99c8a40",
   "metadata": {},
   "outputs": [],
   "source": [
    "df = pd.DataFrame([sub.split(\";\") for sub in a])"
   ]
  },
  {
   "cell_type": "code",
   "execution_count": 82,
   "id": "34945c80-f7d1-422e-8181-4105f6e174f8",
   "metadata": {},
   "outputs": [
    {
     "data": {
      "text/html": [
       "<div>\n",
       "<style scoped>\n",
       "    .dataframe tbody tr th:only-of-type {\n",
       "        vertical-align: middle;\n",
       "    }\n",
       "\n",
       "    .dataframe tbody tr th {\n",
       "        vertical-align: top;\n",
       "    }\n",
       "\n",
       "    .dataframe thead th {\n",
       "        text-align: right;\n",
       "    }\n",
       "</style>\n",
       "<table border=\"1\" class=\"dataframe\">\n",
       "  <thead>\n",
       "    <tr style=\"text-align: right;\">\n",
       "      <th></th>\n",
       "      <th>0</th>\n",
       "      <th>1</th>\n",
       "      <th>2</th>\n",
       "      <th>3</th>\n",
       "      <th>4</th>\n",
       "      <th>5</th>\n",
       "      <th>6</th>\n",
       "      <th>7</th>\n",
       "      <th>8</th>\n",
       "      <th>9</th>\n",
       "      <th>10</th>\n",
       "      <th>11</th>\n",
       "      <th>12</th>\n",
       "    </tr>\n",
       "  </thead>\n",
       "  <tbody>\n",
       "    <tr>\n",
       "      <th>0</th>\n",
       "      <td>11052022:160119</td>\n",
       "      <td>cherepovets</td>\n",
       "      <td>ak1456_1881</td>\n",
       "      <td>#</td>\n",
       "      <td>bus</td>\n",
       "      <td>59.1339225769043</td>\n",
       "      <td>37.97321701049805</td>\n",
       "      <td>0.00</td>\n",
       "      <td>0</td>\n",
       "      <td>0</td>\n",
       "      <td></td>\n",
       "      <td>е254хк_35 [БВ (Н)]</td>\n",
       "      <td>\\n</td>\n",
       "    </tr>\n",
       "    <tr>\n",
       "      <th>1</th>\n",
       "      <td>11052022:160117</td>\n",
       "      <td>cherepovets</td>\n",
       "      <td>ak1456_2424</td>\n",
       "      <td>#7</td>\n",
       "      <td>bus</td>\n",
       "      <td>59.12198257446289</td>\n",
       "      <td>37.97989273071289</td>\n",
       "      <td>9.44</td>\n",
       "      <td>8</td>\n",
       "      <td>1</td>\n",
       "      <td></td>\n",
       "      <td>е401хк_35 [БВ (Н)]</td>\n",
       "      <td>7 [ул. олимпийская - &gt; - ул. наседкина]\\n</td>\n",
       "    </tr>\n",
       "    <tr>\n",
       "      <th>2</th>\n",
       "      <td>11052022:160117</td>\n",
       "      <td>cherepovets</td>\n",
       "      <td>ak1456_1946</td>\n",
       "      <td>#27</td>\n",
       "      <td>bus</td>\n",
       "      <td>59.096702575683594</td>\n",
       "      <td>37.9358024597168</td>\n",
       "      <td>28.49</td>\n",
       "      <td>280</td>\n",
       "      <td>1</td>\n",
       "      <td></td>\n",
       "      <td>е387хк_35 [БВ (Н)]</td>\n",
       "      <td>27 [ул. монт - клер - &gt; - доменная]\\n</td>\n",
       "    </tr>\n",
       "    <tr>\n",
       "      <th>3</th>\n",
       "      <td>11052022:160118</td>\n",
       "      <td>cherepovets</td>\n",
       "      <td>ak1456_1892</td>\n",
       "      <td>#8</td>\n",
       "      <td>bus</td>\n",
       "      <td>59.126468658447266</td>\n",
       "      <td>37.91294479370117</td>\n",
       "      <td>17.76</td>\n",
       "      <td>103</td>\n",
       "      <td>1</td>\n",
       "      <td></td>\n",
       "      <td>е329хк_35 [БВ (Н)]</td>\n",
       "      <td>8 [доменная - &gt; - ул. красная]\\n</td>\n",
       "    </tr>\n",
       "    <tr>\n",
       "      <th>4</th>\n",
       "      <td>11052022:160115</td>\n",
       "      <td>cherepovets</td>\n",
       "      <td>ak1456_2408</td>\n",
       "      <td>#18</td>\n",
       "      <td>bus</td>\n",
       "      <td>59.1187744140625</td>\n",
       "      <td>37.90309143066406</td>\n",
       "      <td>0.00</td>\n",
       "      <td>13</td>\n",
       "      <td>1</td>\n",
       "      <td></td>\n",
       "      <td>е407хк_35 [БВ (Н)]</td>\n",
       "      <td>18 [ул. рыбинская (2) -&gt; пр. победы 2]\\n</td>\n",
       "    </tr>\n",
       "  </tbody>\n",
       "</table>\n",
       "</div>"
      ],
      "text/plain": [
       "                0            1            2    3    4                   5   \\\n",
       "0  11052022:160119  cherepovets  ak1456_1881    #  bus    59.1339225769043   \n",
       "1  11052022:160117  cherepovets  ak1456_2424   #7  bus   59.12198257446289   \n",
       "2  11052022:160117  cherepovets  ak1456_1946  #27  bus  59.096702575683594   \n",
       "3  11052022:160118  cherepovets  ak1456_1892   #8  bus  59.126468658447266   \n",
       "4  11052022:160115  cherepovets  ak1456_2408  #18  bus    59.1187744140625   \n",
       "\n",
       "                  6      7    8  9  10                  11  \\\n",
       "0  37.97321701049805   0.00    0  0     е254хк_35 [БВ (Н)]   \n",
       "1  37.97989273071289   9.44    8  1     е401хк_35 [БВ (Н)]   \n",
       "2   37.9358024597168  28.49  280  1     е387хк_35 [БВ (Н)]   \n",
       "3  37.91294479370117  17.76  103  1     е329хк_35 [БВ (Н)]   \n",
       "4  37.90309143066406   0.00   13  1     е407хк_35 [БВ (Н)]   \n",
       "\n",
       "                                          12  \n",
       "0                                         \\n  \n",
       "1  7 [ул. олимпийская - > - ул. наседкина]\\n  \n",
       "2      27 [ул. монт - клер - > - доменная]\\n  \n",
       "3           8 [доменная - > - ул. красная]\\n  \n",
       "4   18 [ул. рыбинская (2) -> пр. победы 2]\\n  "
      ]
     },
     "execution_count": 82,
     "metadata": {},
     "output_type": "execute_result"
    }
   ],
   "source": [
    "df.head()"
   ]
  },
  {
   "cell_type": "markdown",
   "id": "07d24fcd-9172-4309-9ada-e90d0da4a8ea",
   "metadata": {},
   "source": [
    "Наименование колонок:\n",
    "\n",
    "- `TIMESTAMP` - время в UTC в формате дата:время\n",
    "- `CLID` - vologda или cherepovets\n",
    "- `UUID` - уникальный идентификатор ТС в формате id_перевозчика + \"_\" + id_ТС_в базе_перевозчика\n",
    "- `ROUTE` - \"#\" + номер маршрута \n",
    "- `VEHICLE_TYPE` - 'bus', 'tramway', 'minibus', 'trolleybus'\n",
    "- `LATITUDE` – широта\n",
    "- `LONGITUDE` – долгота\n",
    "- `SPEED` - текущая скорость\n",
    "- `DIRECTION` - азимут\n",
    "- `PRODUCTION` - признак производственного рейса. Когда \"0\" - скорее всего автобус без пассажиров. В Яндекс передаются только данные с флагом \"1\"\n",
    "- `GARANGE_NUMBER` - опционально \"человеческий\" идентификатор ТС для перевозчика\n",
    "- `REG_NUMBER` - госномер ТС, есть не всегда\n",
    "- `ROUTE_DESCR` - текстовый идентификатор траектории маршрута в одном направлении. Нет стандартного формата, можно использовать только как \"хэш\", как ключ для группировки точек по траекториям"
   ]
  },
  {
   "cell_type": "code",
   "execution_count": 88,
   "id": "03af2da3-3af7-4078-ba57-eba789969fe1",
   "metadata": {},
   "outputs": [],
   "source": [
    "new_name_columns = ['TIMESTAMP', \n",
    "                    'CLID', \n",
    "                    'UUID', \n",
    "                    'ROUTE', \n",
    "                    'VEHICLE_TYPE', \n",
    "                    'LATITUDE', \n",
    "                    'LONGITUDE', \n",
    "                    'SPEED', \n",
    "                    'DIRECTION', \n",
    "                    'PRODUCTION', \n",
    "                    'GARANGE_NUMBER', \n",
    "                    'REG_NUMBER', \n",
    "                    'ROUTE_DESCR'\n",
    "                   ]\n",
    "\n",
    "new_name_columns = list(map(lambda x: x.lower(), new_name_columns))\n",
    "\n",
    "df.columns = new_name_columns"
   ]
  },
  {
   "cell_type": "code",
   "execution_count": 96,
   "id": "29a0694d-16f6-497d-85ed-77e5c665ab6c",
   "metadata": {},
   "outputs": [
    {
     "data": {
      "text/html": [
       "<div>\n",
       "<style scoped>\n",
       "    .dataframe tbody tr th:only-of-type {\n",
       "        vertical-align: middle;\n",
       "    }\n",
       "\n",
       "    .dataframe tbody tr th {\n",
       "        vertical-align: top;\n",
       "    }\n",
       "\n",
       "    .dataframe thead th {\n",
       "        text-align: right;\n",
       "    }\n",
       "</style>\n",
       "<table border=\"1\" class=\"dataframe\">\n",
       "  <thead>\n",
       "    <tr style=\"text-align: right;\">\n",
       "      <th></th>\n",
       "      <th>timestamp</th>\n",
       "      <th>clid</th>\n",
       "      <th>uuid</th>\n",
       "      <th>route</th>\n",
       "      <th>vehicle_type</th>\n",
       "      <th>latitude</th>\n",
       "      <th>longitude</th>\n",
       "      <th>speed</th>\n",
       "      <th>direction</th>\n",
       "      <th>production</th>\n",
       "      <th>garange_number</th>\n",
       "      <th>reg_number</th>\n",
       "      <th>route_descr</th>\n",
       "    </tr>\n",
       "  </thead>\n",
       "  <tbody>\n",
       "    <tr>\n",
       "      <th>0</th>\n",
       "      <td>11052022:160119</td>\n",
       "      <td>cherepovets</td>\n",
       "      <td>ak1456_1881</td>\n",
       "      <td>#</td>\n",
       "      <td>bus</td>\n",
       "      <td>59.1339225769043</td>\n",
       "      <td>37.97321701049805</td>\n",
       "      <td>0.00</td>\n",
       "      <td>0</td>\n",
       "      <td>0</td>\n",
       "      <td></td>\n",
       "      <td>е254хк_35 [БВ (Н)]</td>\n",
       "      <td>\\n</td>\n",
       "    </tr>\n",
       "    <tr>\n",
       "      <th>1</th>\n",
       "      <td>11052022:160117</td>\n",
       "      <td>cherepovets</td>\n",
       "      <td>ak1456_2424</td>\n",
       "      <td>#7</td>\n",
       "      <td>bus</td>\n",
       "      <td>59.12198257446289</td>\n",
       "      <td>37.97989273071289</td>\n",
       "      <td>9.44</td>\n",
       "      <td>8</td>\n",
       "      <td>1</td>\n",
       "      <td></td>\n",
       "      <td>е401хк_35 [БВ (Н)]</td>\n",
       "      <td>7 [ул. олимпийская - &gt; - ул. наседкина]\\n</td>\n",
       "    </tr>\n",
       "    <tr>\n",
       "      <th>2</th>\n",
       "      <td>11052022:160117</td>\n",
       "      <td>cherepovets</td>\n",
       "      <td>ak1456_1946</td>\n",
       "      <td>#27</td>\n",
       "      <td>bus</td>\n",
       "      <td>59.096702575683594</td>\n",
       "      <td>37.9358024597168</td>\n",
       "      <td>28.49</td>\n",
       "      <td>280</td>\n",
       "      <td>1</td>\n",
       "      <td></td>\n",
       "      <td>е387хк_35 [БВ (Н)]</td>\n",
       "      <td>27 [ул. монт - клер - &gt; - доменная]\\n</td>\n",
       "    </tr>\n",
       "    <tr>\n",
       "      <th>3</th>\n",
       "      <td>11052022:160118</td>\n",
       "      <td>cherepovets</td>\n",
       "      <td>ak1456_1892</td>\n",
       "      <td>#8</td>\n",
       "      <td>bus</td>\n",
       "      <td>59.126468658447266</td>\n",
       "      <td>37.91294479370117</td>\n",
       "      <td>17.76</td>\n",
       "      <td>103</td>\n",
       "      <td>1</td>\n",
       "      <td></td>\n",
       "      <td>е329хк_35 [БВ (Н)]</td>\n",
       "      <td>8 [доменная - &gt; - ул. красная]\\n</td>\n",
       "    </tr>\n",
       "    <tr>\n",
       "      <th>4</th>\n",
       "      <td>11052022:160115</td>\n",
       "      <td>cherepovets</td>\n",
       "      <td>ak1456_2408</td>\n",
       "      <td>#18</td>\n",
       "      <td>bus</td>\n",
       "      <td>59.1187744140625</td>\n",
       "      <td>37.90309143066406</td>\n",
       "      <td>0.00</td>\n",
       "      <td>13</td>\n",
       "      <td>1</td>\n",
       "      <td></td>\n",
       "      <td>е407хк_35 [БВ (Н)]</td>\n",
       "      <td>18 [ул. рыбинская (2) -&gt; пр. победы 2]\\n</td>\n",
       "    </tr>\n",
       "  </tbody>\n",
       "</table>\n",
       "</div>"
      ],
      "text/plain": [
       "         timestamp         clid         uuid route vehicle_type  \\\n",
       "0  11052022:160119  cherepovets  ak1456_1881     #          bus   \n",
       "1  11052022:160117  cherepovets  ak1456_2424    #7          bus   \n",
       "2  11052022:160117  cherepovets  ak1456_1946   #27          bus   \n",
       "3  11052022:160118  cherepovets  ak1456_1892    #8          bus   \n",
       "4  11052022:160115  cherepovets  ak1456_2408   #18          bus   \n",
       "\n",
       "             latitude          longitude  speed direction production  \\\n",
       "0    59.1339225769043  37.97321701049805   0.00         0          0   \n",
       "1   59.12198257446289  37.97989273071289   9.44         8          1   \n",
       "2  59.096702575683594   37.9358024597168  28.49       280          1   \n",
       "3  59.126468658447266  37.91294479370117  17.76       103          1   \n",
       "4    59.1187744140625  37.90309143066406   0.00        13          1   \n",
       "\n",
       "  garange_number          reg_number  \\\n",
       "0                 е254хк_35 [БВ (Н)]   \n",
       "1                 е401хк_35 [БВ (Н)]   \n",
       "2                 е387хк_35 [БВ (Н)]   \n",
       "3                 е329хк_35 [БВ (Н)]   \n",
       "4                 е407хк_35 [БВ (Н)]   \n",
       "\n",
       "                                 route_descr  \n",
       "0                                         \\n  \n",
       "1  7 [ул. олимпийская - > - ул. наседкина]\\n  \n",
       "2      27 [ул. монт - клер - > - доменная]\\n  \n",
       "3           8 [доменная - > - ул. красная]\\n  \n",
       "4   18 [ул. рыбинская (2) -> пр. победы 2]\\n  "
      ]
     },
     "execution_count": 96,
     "metadata": {},
     "output_type": "execute_result"
    }
   ],
   "source": [
    "df.head()"
   ]
  },
  {
   "cell_type": "markdown",
   "id": "cdd550cd-77ff-4c76-a6c3-12d6cd9ed2f9",
   "metadata": {},
   "source": [
    "# Создание карты"
   ]
  },
  {
   "cell_type": "code",
   "execution_count": 94,
   "id": "87c0c476-c9c7-452c-9327-d0a63e5a068e",
   "metadata": {},
   "outputs": [
    {
     "name": "stdout",
     "output_type": "stream",
     "text": [
      "User Guide: https://docs.kepler.gl/docs/keplergl-jupyter\n"
     ]
    },
    {
     "data": {
      "application/vnd.jupyter.widget-view+json": {
       "model_id": "a4d113a8e60d453bb9a1c8a5e9d6a788",
       "version_major": 2,
       "version_minor": 0
      },
      "text/plain": [
       "KeplerGl(config={'version': 'v1', 'config': {'visState': {'filters': [{'dataId': ['yelyi5ow8'], 'id': '3ynfdw2…"
      ]
     },
     "metadata": {},
     "output_type": "display_data"
    }
   ],
   "source": [
    "with open('config.json') as f:\n",
    "    config = json.load(f)\n",
    "\n",
    "_map = KeplerGl()\n",
    "_map.config = config\n",
    "\n",
    "_map.add_data(data=df_draw, name='yelyi5ow8')\n",
    "\n",
    "_map"
   ]
  },
  {
   "cell_type": "code",
   "execution_count": null,
   "id": "e560128f-9037-4112-97cf-70dd19917f5e",
   "metadata": {},
   "outputs": [],
   "source": []
  }
 ],
 "metadata": {
  "kernelspec": {
   "display_name": "Python 3 (ipykernel)",
   "language": "python",
   "name": "python3"
  },
  "language_info": {
   "codemirror_mode": {
    "name": "ipython",
    "version": 3
   },
   "file_extension": ".py",
   "mimetype": "text/x-python",
   "name": "python",
   "nbconvert_exporter": "python",
   "pygments_lexer": "ipython3",
   "version": "3.9.7"
  }
 },
 "nbformat": 4,
 "nbformat_minor": 5
}
