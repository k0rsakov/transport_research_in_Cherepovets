{
 "cells": [
  {
   "cell_type": "code",
   "execution_count": 54,
   "id": "1bf322b9-c533-41ec-b536-b9398a51a260",
   "metadata": {},
   "outputs": [],
   "source": [
    "import pandas as pd\n",
    "import json\n",
    "from tqdm import tqdm"
   ]
  },
  {
   "cell_type": "code",
   "execution_count": 2,
   "id": "547421bb-2dd2-4d34-ae17-ad9e78dbd9da",
   "metadata": {},
   "outputs": [],
   "source": [
    "a = []\n",
    "\n",
    "f = open('20220511T174759.log')\n",
    "line = f.readline()\n",
    "while line:\n",
    "    line = f.readline()\n",
    "    a.append(line)\n",
    "    \n",
    "f.close()    "
   ]
  },
  {
   "cell_type": "code",
   "execution_count": null,
   "id": "bb0a0241-33bc-4868-8cda-6b7848e6d141",
   "metadata": {},
   "outputs": [],
   "source": []
  },
  {
   "cell_type": "code",
   "execution_count": null,
   "id": "b82cb65a-88af-40b5-b998-25efe99c8a40",
   "metadata": {},
   "outputs": [],
   "source": []
  }
 ],
 "metadata": {
  "kernelspec": {
   "display_name": "Python 3 (ipykernel)",
   "language": "python",
   "name": "python3"
  },
  "language_info": {
   "codemirror_mode": {
    "name": "ipython",
    "version": 3
   },
   "file_extension": ".py",
   "mimetype": "text/x-python",
   "name": "python",
   "nbconvert_exporter": "python",
   "pygments_lexer": "ipython3",
   "version": "3.9.7"
  }
 },
 "nbformat": 4,
 "nbformat_minor": 5
}
